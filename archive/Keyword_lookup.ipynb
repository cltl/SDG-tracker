{
 "cells": [
  {
   "cell_type": "markdown",
   "metadata": {},
   "source": [
    "# test success - iterate through bigger files"
   ]
  },
  {
   "cell_type": "code",
   "execution_count": 1,
   "metadata": {
    "ExecuteTime": {
     "end_time": "2020-02-27T13:22:33.262657Z",
     "start_time": "2020-02-27T13:22:27.837537Z"
    }
   },
   "outputs": [],
   "source": [
    "import pickle\n",
    "import json\n",
    "import pandas as pd\n",
    "import glob\n",
    "import os"
   ]
  },
  {
   "cell_type": "code",
   "execution_count": 2,
   "metadata": {
    "ExecuteTime": {
     "end_time": "2020-02-27T13:22:33.293599Z",
     "start_time": "2020-02-27T13:22:33.265118Z"
    }
   },
   "outputs": [],
   "source": [
    "def new_dict_concat_six (unpickled_dict):\n",
    "    '''\n",
    "    takes an unpickled dictionary as input with headline as [1] and list of first five sentences as [2]\n",
    "    converts to a new dict with same key but value is string of concatenated headline + first five sentences\n",
    "    filters the values of the keywords\n",
    "    reurns: new dictionary with keys and concatenated headlines and first_five sentences of those articles which \n",
    "        contain the keywords\n",
    "    '''\n",
    "        \n",
    "    output = [unpickled_dict[key][1]+ '. ' + ' '.join(unpickled_dict[key][2]) for key in unpickled_dict]\n",
    "    \n",
    "    # calling test_dict only gets keys\n",
    "    new_dict = dict(zip(unpickled_dict, output))\n",
    "    \n",
    "    return new_dict\n",
    "\n"
   ]
  },
  {
   "cell_type": "code",
   "execution_count": 7,
   "metadata": {
    "ExecuteTime": {
     "end_time": "2020-02-27T13:38:39.982150Z",
     "start_time": "2020-02-27T13:29:57.293639Z"
    }
   },
   "outputs": [],
   "source": [
    "keywords=['poverty', ' aid ']\n",
    "\n",
    "for file in glob.glob('pickles/*/*'):\n",
    "    #prep filepaths for writing files\n",
    "    path = os.path.split(file)[0].split('/')[0]\n",
    "    basename = os.path.basename(file)\n",
    "    \n",
    "    unpickled_dict = pickle.load(open (file, 'rb'))\n",
    "    # run the function above to concat headlines and first_five\n",
    "    new_dict = new_dict_concat_six (unpickled_dict)\n",
    "    #rough filter for only keywords (see above)\n",
    "    output_dict = {k: v for k, v in new_dict.items() for keyword in keywords if keyword in v}\n",
    "    #write filtered articles - choosing json this time so I can inspect them in IDE\n",
    "    if not os.path.exists(f'filteredpickles/{path}'):\n",
    "        os.makedirs(f'filteredpickles/{path}')\n",
    "\n",
    "    with open(f'filteredpickles/{path}/{basename}.json', 'w') as outfile:\n",
    "        json.dump(output_dict, outfile)\n",
    "            "
   ]
  },
  {
   "cell_type": "code",
   "execution_count": 9,
   "metadata": {
    "ExecuteTime": {
     "end_time": "2020-02-27T13:41:43.879028Z",
     "start_time": "2020-02-27T13:41:43.874152Z"
    }
   },
   "outputs": [],
   "source": [
    "# 8 minutes using keyword search vs 54 hours for bert search"
   ]
  },
  {
   "cell_type": "markdown",
   "metadata": {},
   "source": [
    "# Read in all files"
   ]
  },
  {
   "cell_type": "code",
   "execution_count": 14,
   "metadata": {
    "ExecuteTime": {
     "end_time": "2020-02-27T13:52:06.314986Z",
     "start_time": "2020-02-27T13:52:03.740045Z"
    }
   },
   "outputs": [],
   "source": [
    "df_list=[]\n",
    "\n",
    "for file in glob.glob('filteredpickles/pickles/*/*'):\n",
    "    jsonners = json.load(open(file, 'rb'))\n",
    "    columns=['text']\n",
    "    df_list.append(pd.DataFrame.from_dict(jsonners, orient='index', columns= columns))"
   ]
  },
  {
   "cell_type": "code",
   "execution_count": 15,
   "metadata": {
    "ExecuteTime": {
     "end_time": "2020-02-27T13:52:07.481376Z",
     "start_time": "2020-02-27T13:52:07.149109Z"
    }
   },
   "outputs": [],
   "source": [
    "big_df = pd.concat(df_list)"
   ]
  },
  {
   "cell_type": "code",
   "execution_count": null,
   "metadata": {},
   "outputs": [],
   "source": [
    "pd.set_option('display.max_colwidth', -1)"
   ]
  },
  {
   "cell_type": "code",
   "execution_count": 37,
   "metadata": {
    "ExecuteTime": {
     "end_time": "2020-02-27T14:54:47.068403Z",
     "start_time": "2020-02-27T14:54:46.511498Z"
    }
   },
   "outputs": [],
   "source": [
    "# will capitalism be a useful combo given our objective?\n",
    "big_df_cap=big_df[big_df.text.str.contains('capitalism')]"
   ]
  },
  {
   "cell_type": "code",
   "execution_count": 38,
   "metadata": {
    "ExecuteTime": {
     "end_time": "2020-02-27T14:54:47.301284Z",
     "start_time": "2020-02-27T14:54:47.282474Z"
    }
   },
   "outputs": [
    {
     "data": {
      "text/html": [
       "<div>\n",
       "<style scoped>\n",
       "    .dataframe tbody tr th:only-of-type {\n",
       "        vertical-align: middle;\n",
       "    }\n",
       "\n",
       "    .dataframe tbody tr th {\n",
       "        vertical-align: top;\n",
       "    }\n",
       "\n",
       "    .dataframe thead th {\n",
       "        text-align: right;\n",
       "    }\n",
       "</style>\n",
       "<table border=\"1\" class=\"dataframe\">\n",
       "  <thead>\n",
       "    <tr style=\"text-align: right;\">\n",
       "      <th></th>\n",
       "      <th>text</th>\n",
       "    </tr>\n",
       "  </thead>\n",
       "  <tbody>\n",
       "    <tr>\n",
       "      <th>AFP_ENG_19950306.0451</th>\n",
       "      <td>Role of the private sector under UN spotlight By Robert Holloway. Appeals to capitalism to undertake a major role in fighting poverty are likely to come under renewed scrutiny when debate resumes at the UN World Summit on Social Development here Tuesday. The week-long summit began on Monday with a call from UN Secretary General Boutros Boutros-Ghali for \"a new social contract at the global level\" to rid the world of poverty and halt the slide towards social disintegration. While Boutros-Ghali stressed the policy-making role of governments, several speakers argued that the summit's goals -- spelt out in a ten- point draft declaration -- could only be met with the help of private enterprise. James Gustave Speth, administrator of the UN Development Programme, pointed out that the biggest part of the poor countries' crippling debt was privately incurred, and that it was growing fast, while their public debt had largely stood still. \"The success of this summit will require the full partnership of civil society, non-governmental organisations and, far more than in the past, the private sector,\" Speth told the first plenary session of the conference.</td>\n",
       "    </tr>\n",
       "    <tr>\n",
       "      <th>AFP_ENG_19950306.0452</th>\n",
       "      <td>Role of the private sector under UN spotlight By Robert Holloway. Appeals to capitalism to undertake a major role in fighting poverty are likely to come under renewed scrutiny when debate resumes at the UN World Summit on Social Development here Tuesday. The week-long summit began on Monday with a call from UN Secretary General Boutros Boutros-Ghali for \"a new social contract at the global level\" to rid the world of poverty and halt the slide towards social disintegration. While Boutros-Ghali stressed the policy-making role of governments, several speakers argued that the summit's goals -- spelt out in a ten- point draft declaration -- could only be met with the help of private enterprise. James Gustave Speth, administrator of the UN Development Programme, pointed out that the biggest part of the poor countries' crippling debt was privately incurred, and that it was growing fast, while their public debt had largely stood still. \"The success of this summit will require the full partnership of civil society, non-governmental organisations and, far more than in the past, the private sector,\" Speth told the first plenary session of the conference.</td>\n",
       "    </tr>\n",
       "    <tr>\n",
       "      <th>AFP_ENG_19950312.0110</th>\n",
       "      <td>(picture) Castro's attack on capitalism falls on deaf ears at UN summit. In a much awaited speech to a UN summit here, Cuban President Fidel Castro on Sunday denounced the free market system as \"lies and trickery\", but his words seemed to strike a chord with few of the many other Third World leaders gathered here. Castro and South African President Nelson Mandela were two of the biggest attractions at the weekend ceremonies where 118 heads of state and government and officials from another 66 countries were to formally endorse the Copenhagen Declaration to rid the world of poverty. But while the Cuban president was given a warmer welcome and received louder applause than many other leaders, his speech was oddly out of key with most. Quoting the Spanish poet Calderon de la Barca, Castro struck a sceptical note from the start: \"Life is a dream, and dreams are but dreams.\" Launching into an attack on \"the savage law of the market\", he denounced: \"a world where the rich are getting richer and the poor are getting poorer, where some countries receive less and less for their primary goods and basic commodities while others sell manufactured goods more and more dearly, where the external debt of the least favoured is growing all the time and has reached the incredible figure of 1,500 billion dollars, where women, Indians and blacks are discriminated against, and where arms sales continue.\"</td>\n",
       "    </tr>\n",
       "    <tr>\n",
       "      <th>AFP_ENG_19950312.0111</th>\n",
       "      <td>(picture) Castro's attack on capitalism falls on deaf ears at UN summit by Pia Ohlin. In a much awaited speech to a UN summit here, Cuban President Fidel Castro on Sunday denounced the free market system as \"lies and trickery\", but his words seemed to strike a chord with few of the many other Third World leaders gathered here. Castro and South African President Nelson Mandela were two of the biggest attractions at the weekend ceremonies where 118 heads of state and government and officials from another 66 countries were to formally endorse the Copenhagen Declaration to rid the world of poverty. But while the Cuban president was given a warmer welcome and received louder applause than many other leaders, his speech was oddly out of key with most. Quoting the Spanish poet Calderon de la Barca, Castro struck a sceptical note from the start: \"Life is a dream, and dreams are but dreams.\" Launching into an attack on \"the savage law of the market\", he denounced: \"a world where the rich are getting richer and the poor are getting poorer, where some countries receive less and less for their primary goods and basic commodities while others sell manufactured goods more and more dearly, where the external debt of the least favoured is growing all the time and has reached the incredible figure of 1,500 billion dollars, where women, Indians and blacks are discriminated against, and where arms sales continue.\"</td>\n",
       "    </tr>\n",
       "    <tr>\n",
       "      <th>AFP_ENG_19951222.0266</th>\n",
       "      <td>Billionaire keeps investing in Russia. Billionaire financier George Soros, who has taken to promoting capitalism and democracy in the former Soviet bloc countries, said in an interview published Friday that he will keep investing in Russia. \"I got out almost entirely\" last year, Soros told the New York Times, after concluding that the Russian market was on the verge of bursting. \"Currently I am going back in. I do it because the reward in certain situations in so great it is worth taking the risk.\" Soros, an international financier, has spent more than 100 million dollars to aid scientists in the former Soviet Union, the Times reported. His foundation disbursed 25.8 million dollars last year to print textbooks and help Russian journalists and libraries.</td>\n",
       "    </tr>\n",
       "    <tr>\n",
       "      <th>...</th>\n",
       "      <td>...</td>\n",
       "    </tr>\n",
       "    <tr>\n",
       "      <th>XIN_ENG_20080302.0046</th>\n",
       "      <td>Myanmar political study group urges support of constitutional referendum. A political study group in Myanmar Sunday called on its members and the public to vote in favor of a constitution draft in the forthcoming nationwide referendum scheduled for May. The Modern Scientific Political Economy Study Group (MSPEG) told a monthly regular meeting here that if cooperating with the military government, the transition to democracy system could be realized earlier and the process could also be possible in a peaceful manner. The group objected foreign sanctions on Myanmar, saying that if a country is so imposed, it would only bring about increased poverty of the people and social unrest that could prolong the dictatorship. With an aim of studying modern capitalism and socialism, the MSPEG was formed in October 1980 having over 10,000 members now, the group said, adding that it has held some 33 political activities across the country in 2007, and two in February this year in support of the forthcoming government-planned constitutional referendum in May and general election in 2010. The ruling Myanmar military government, State Peace and Development Council (SPDC), enacted on Feb. 26 a 12-chapter 31- provision 2008 Republic of Union of Myanmar Referendum Law and set up a commission for a nationwide constitutional referendum following the completion of the constitution draft on Feb. 19.</td>\n",
       "    </tr>\n",
       "    <tr>\n",
       "      <th>XIN_ENG_20090814.0074</th>\n",
       "      <td>Indonesian president vows to boost domestic market. Indonesian President Susilo Bambang Yudhoyono said on Friday his country has planned to strengthen its huge domestic market to boost economic growth while avoiding engaging in global capitalism practice. The president made the statement in his annual speech at the parliament ahead of the anniversary of Indonesia's independence day on Aug. 17. President Susilo said that the country should not rely only on exports, which are 32 percent of the country's GDP.  \"In the future, domestic economy may not only rely on the strength of the exports for our economic growth. Export- oriented economy is not our choice,\" he said.  The government has adopted a series of policies since the global financial crisis sapped demand and prices of the country's export products since October 2008, which have cushion the fallout of the crisis by registering a 4.4 percent and 4.0 percent growth in the first and second quarter respectively. Indonesia has targeted to expand its economy by 4.5 percent this year and around 5.5 percent next year. The Indonesian government has launched stimulus package of about 73.3 trillion rupiah (some 7 billion U.S. dollars) in February, partly to finance huge infrastructure projects to create jobs and boost consumers demand.  The president also stressed food and energy security.  On poverty and unemployment, president Susilo reaffirmed that the country has lowered poverty rate from 16.17 percent in 2004 to 14.1 percent in 2009.  Unemployment rate decreased from 9.9 percent in 2004 to 8.1 percent in 2009, he said.</td>\n",
       "    </tr>\n",
       "    <tr>\n",
       "      <th>XIN_ENG_20100921.0355</th>\n",
       "      <td>Iran proposes \"decade for joint global governance\" at UN. Iranian President Mahmoud Ahmadinejad on Tuesday proposed that the UN name the second decade of the 21st century as \"the decade for joint global governance,\" calling on world leaders \"to spare no effort in practical planning for the realization of this noble goal.\" The statement came as Ahmadinejad addressed the UN high-level meeting on the Millennium Development Goals (MDGs), which entered its second day here Tuesday. The first decade of the new millennium was marked by the UN General Assembly as \"International Decade for the Culture of Peace\" and saw the establishment of the eight anti-poverty MDGs through the 2000 Millennium Declaration. \"The world is in need of an encompassing and of course, just and humane order in the light of which the rights of all are preserved and peace and security are safeguarded,\" he said. Critical of current global economic structures, Ahmadinejad said \"demanding liberal capitalism and transnational corporations\" have caused suffering throughout the world.</td>\n",
       "    </tr>\n",
       "    <tr>\n",
       "      <th>XIN_ENG_20100923.0251</th>\n",
       "      <td>Iranian president expresses incapability of capitalism at UN. Capitalism has proved to be unable to provide appropriate solutions to the problems of societies, Mahmood Ahmadinejad, president of the Islamic Republic of Iran, said here Thursday. Addressing the general debate of the 65th session of the UN General Assembly, Ahmadinejad said that \"the lust for capital and domination replaced monotheism which is the gate to love and unity. \" \"The widespread clash of the egoist with the divine values gave way to slavery and colonialism,\" he said, noting that \"a large portion of the world came under the domination of a few western States.\" In his speech, the president pointed out that the old goals of colonialists and the slave masters are pursued \"with a new facade, with terrorism, illicit drugs, poverty and increasing social gaps\" and the \"proliferation and stockpiling of nuclear, biological and chemical weapons\" that expanded. This is putting the world under a big threat, he said.</td>\n",
       "    </tr>\n",
       "    <tr>\n",
       "      <th>XIN_ENG_20101213.0222</th>\n",
       "      <td>Money doesn't buy happiness over long term: global study. Raising a country from poverty to affluence doesn't necessarily make the nation's population happier, according to a new study of 54 countries worldwide. The results apply to developed and developing countries worldwide, said study researcher Richard Easterlin, a professor of economics at the University of Southern California. \"Happiness doesn't increase with the rate of economic growth even in less- developed countries or transitional countries,\" Easterlin said in remarks published by Livescience.com on Monday. \"We already know that to be true of developed countries, but now it's been extended to countries of lower levels of income.\" The researchers collected happiness data between 10 and 34 years from 17 Latin American countries, 17 developed countries, 11 Eastern European countries transitioning from socialism to capitalism and nine-less developed countries, according to the report.</td>\n",
       "    </tr>\n",
       "  </tbody>\n",
       "</table>\n",
       "<p>367 rows × 1 columns</p>\n",
       "</div>"
      ],
      "text/plain": [
       "                                                                                                                                                                                                                                                                                                                                                                                                                                                                                                                                                                                                                                                                                                                                                                                                                                                                                                                                                                                                                                                                                                                                                                                                                                                                                                                                                                                                                                                                                                                                                                                                                                                                             text\n",
       "AFP_ENG_19950306.0451  Role of the private sector under UN spotlight By Robert Holloway. Appeals to capitalism to undertake a major role in fighting poverty are likely to come under renewed scrutiny when debate resumes at the UN World Summit on Social Development here Tuesday. The week-long summit began on Monday with a call from UN Secretary General Boutros Boutros-Ghali for \"a new social contract at the global level\" to rid the world of poverty and halt the slide towards social disintegration. While Boutros-Ghali stressed the policy-making role of governments, several speakers argued that the summit's goals -- spelt out in a ten- point draft declaration -- could only be met with the help of private enterprise. James Gustave Speth, administrator of the UN Development Programme, pointed out that the biggest part of the poor countries' crippling debt was privately incurred, and that it was growing fast, while their public debt had largely stood still. \"The success of this summit will require the full partnership of civil society, non-governmental organisations and, far more than in the past, the private sector,\" Speth told the first plenary session of the conference.                                                                                                                                                                                                                                                                                                                                                                                                                                                 \n",
       "AFP_ENG_19950306.0452  Role of the private sector under UN spotlight By Robert Holloway. Appeals to capitalism to undertake a major role in fighting poverty are likely to come under renewed scrutiny when debate resumes at the UN World Summit on Social Development here Tuesday. The week-long summit began on Monday with a call from UN Secretary General Boutros Boutros-Ghali for \"a new social contract at the global level\" to rid the world of poverty and halt the slide towards social disintegration. While Boutros-Ghali stressed the policy-making role of governments, several speakers argued that the summit's goals -- spelt out in a ten- point draft declaration -- could only be met with the help of private enterprise. James Gustave Speth, administrator of the UN Development Programme, pointed out that the biggest part of the poor countries' crippling debt was privately incurred, and that it was growing fast, while their public debt had largely stood still. \"The success of this summit will require the full partnership of civil society, non-governmental organisations and, far more than in the past, the private sector,\" Speth told the first plenary session of the conference.                                                                                                                                                                                                                                                                                                                                                                                                                                                 \n",
       "AFP_ENG_19950312.0110  (picture) Castro's attack on capitalism falls on deaf ears at UN summit. In a much awaited speech to a UN summit here, Cuban President Fidel Castro on Sunday denounced the free market system as \"lies and trickery\", but his words seemed to strike a chord with few of the many other Third World leaders gathered here. Castro and South African President Nelson Mandela were two of the biggest attractions at the weekend ceremonies where 118 heads of state and government and officials from another 66 countries were to formally endorse the Copenhagen Declaration to rid the world of poverty. But while the Cuban president was given a warmer welcome and received louder applause than many other leaders, his speech was oddly out of key with most. Quoting the Spanish poet Calderon de la Barca, Castro struck a sceptical note from the start: \"Life is a dream, and dreams are but dreams.\" Launching into an attack on \"the savage law of the market\", he denounced: \"a world where the rich are getting richer and the poor are getting poorer, where some countries receive less and less for their primary goods and basic commodities while others sell manufactured goods more and more dearly, where the external debt of the least favoured is growing all the time and has reached the incredible figure of 1,500 billion dollars, where women, Indians and blacks are discriminated against, and where arms sales continue.\"                                                                                                                                                                                             \n",
       "AFP_ENG_19950312.0111  (picture) Castro's attack on capitalism falls on deaf ears at UN summit by Pia Ohlin. In a much awaited speech to a UN summit here, Cuban President Fidel Castro on Sunday denounced the free market system as \"lies and trickery\", but his words seemed to strike a chord with few of the many other Third World leaders gathered here. Castro and South African President Nelson Mandela were two of the biggest attractions at the weekend ceremonies where 118 heads of state and government and officials from another 66 countries were to formally endorse the Copenhagen Declaration to rid the world of poverty. But while the Cuban president was given a warmer welcome and received louder applause than many other leaders, his speech was oddly out of key with most. Quoting the Spanish poet Calderon de la Barca, Castro struck a sceptical note from the start: \"Life is a dream, and dreams are but dreams.\" Launching into an attack on \"the savage law of the market\", he denounced: \"a world where the rich are getting richer and the poor are getting poorer, where some countries receive less and less for their primary goods and basic commodities while others sell manufactured goods more and more dearly, where the external debt of the least favoured is growing all the time and has reached the incredible figure of 1,500 billion dollars, where women, Indians and blacks are discriminated against, and where arms sales continue.\"                                                                                                                                                                                \n",
       "AFP_ENG_19951222.0266  Billionaire keeps investing in Russia. Billionaire financier George Soros, who has taken to promoting capitalism and democracy in the former Soviet bloc countries, said in an interview published Friday that he will keep investing in Russia. \"I got out almost entirely\" last year, Soros told the New York Times, after concluding that the Russian market was on the verge of bursting. \"Currently I am going back in. I do it because the reward in certain situations in so great it is worth taking the risk.\" Soros, an international financier, has spent more than 100 million dollars to aid scientists in the former Soviet Union, the Times reported. His foundation disbursed 25.8 million dollars last year to print textbooks and help Russian journalists and libraries.                                                                                                                                                                                                                                                                                                                                                                                                                                                                                                                                                                                                                                                                                                                                                                                                                                                               \n",
       "...                                                                                                                                                                                                                                                                                                                                                                                                                                                                                                                                                                                                                                                                                                                                                                                                            ...                                                                                                                                                                                                                                                                                                                                                                                                                                                                                                                                                                                                                                                                                                                                                                                                                                                               \n",
       "XIN_ENG_20080302.0046  Myanmar political study group urges support of constitutional referendum. A political study group in Myanmar Sunday called on its members and the public to vote in favor of a constitution draft in the forthcoming nationwide referendum scheduled for May. The Modern Scientific Political Economy Study Group (MSPEG) told a monthly regular meeting here that if cooperating with the military government, the transition to democracy system could be realized earlier and the process could also be possible in a peaceful manner. The group objected foreign sanctions on Myanmar, saying that if a country is so imposed, it would only bring about increased poverty of the people and social unrest that could prolong the dictatorship. With an aim of studying modern capitalism and socialism, the MSPEG was formed in October 1980 having over 10,000 members now, the group said, adding that it has held some 33 political activities across the country in 2007, and two in February this year in support of the forthcoming government-planned constitutional referendum in May and general election in 2010. The ruling Myanmar military government, State Peace and Development Council (SPDC), enacted on Feb. 26 a 12-chapter 31- provision 2008 Republic of Union of Myanmar Referendum Law and set up a commission for a nationwide constitutional referendum following the completion of the constitution draft on Feb. 19.                                                                                                                                                                                                     \n",
       "XIN_ENG_20090814.0074  Indonesian president vows to boost domestic market. Indonesian President Susilo Bambang Yudhoyono said on Friday his country has planned to strengthen its huge domestic market to boost economic growth while avoiding engaging in global capitalism practice. The president made the statement in his annual speech at the parliament ahead of the anniversary of Indonesia's independence day on Aug. 17. President Susilo said that the country should not rely only on exports, which are 32 percent of the country's GDP.  \"In the future, domestic economy may not only rely on the strength of the exports for our economic growth. Export- oriented economy is not our choice,\" he said.  The government has adopted a series of policies since the global financial crisis sapped demand and prices of the country's export products since October 2008, which have cushion the fallout of the crisis by registering a 4.4 percent and 4.0 percent growth in the first and second quarter respectively. Indonesia has targeted to expand its economy by 4.5 percent this year and around 5.5 percent next year. The Indonesian government has launched stimulus package of about 73.3 trillion rupiah (some 7 billion U.S. dollars) in February, partly to finance huge infrastructure projects to create jobs and boost consumers demand.  The president also stressed food and energy security.  On poverty and unemployment, president Susilo reaffirmed that the country has lowered poverty rate from 16.17 percent in 2004 to 14.1 percent in 2009.  Unemployment rate decreased from 9.9 percent in 2004 to 8.1 percent in 2009, he said.\n",
       "XIN_ENG_20100921.0355  Iran proposes \"decade for joint global governance\" at UN. Iranian President Mahmoud Ahmadinejad on Tuesday proposed that the UN name the second decade of the 21st century as \"the decade for joint global governance,\" calling on world leaders \"to spare no effort in practical planning for the realization of this noble goal.\" The statement came as Ahmadinejad addressed the UN high-level meeting on the Millennium Development Goals (MDGs), which entered its second day here Tuesday. The first decade of the new millennium was marked by the UN General Assembly as \"International Decade for the Culture of Peace\" and saw the establishment of the eight anti-poverty MDGs through the 2000 Millennium Declaration. \"The world is in need of an encompassing and of course, just and humane order in the light of which the rights of all are preserved and peace and security are safeguarded,\" he said. Critical of current global economic structures, Ahmadinejad said \"demanding liberal capitalism and transnational corporations\" have caused suffering throughout the world.                                                                                                                                                                                                                                                                                                                                                                                                                                                                                                                                                       \n",
       "XIN_ENG_20100923.0251  Iranian president expresses incapability of capitalism at UN. Capitalism has proved to be unable to provide appropriate solutions to the problems of societies, Mahmood Ahmadinejad, president of the Islamic Republic of Iran, said here Thursday. Addressing the general debate of the 65th session of the UN General Assembly, Ahmadinejad said that \"the lust for capital and domination replaced monotheism which is the gate to love and unity. \" \"The widespread clash of the egoist with the divine values gave way to slavery and colonialism,\" he said, noting that \"a large portion of the world came under the domination of a few western States.\" In his speech, the president pointed out that the old goals of colonialists and the slave masters are pursued \"with a new facade, with terrorism, illicit drugs, poverty and increasing social gaps\" and the \"proliferation and stockpiling of nuclear, biological and chemical weapons\" that expanded. This is putting the world under a big threat, he said.                                                                                                                                                                                                                                                                                                                                                                                                                                                                                                                                                                                                                            \n",
       "XIN_ENG_20101213.0222  Money doesn't buy happiness over long term: global study. Raising a country from poverty to affluence doesn't necessarily make the nation's population happier, according to a new study of 54 countries worldwide. The results apply to developed and developing countries worldwide, said study researcher Richard Easterlin, a professor of economics at the University of Southern California. \"Happiness doesn't increase with the rate of economic growth even in less- developed countries or transitional countries,\" Easterlin said in remarks published by Livescience.com on Monday. \"We already know that to be true of developed countries, but now it's been extended to countries of lower levels of income.\" The researchers collected happiness data between 10 and 34 years from 17 Latin American countries, 17 developed countries, 11 Eastern European countries transitioning from socialism to capitalism and nine-less developed countries, according to the report.                                                                                                                                                                                                                                                                                                                                                                                                                                                                                                                                                                                                                                                              \n",
       "\n",
       "[367 rows x 1 columns]"
      ]
     },
     "execution_count": 38,
     "metadata": {},
     "output_type": "execute_result"
    }
   ],
   "source": [
    "big_df_cap"
   ]
  },
  {
   "cell_type": "markdown",
   "metadata": {},
   "source": [
    "list of keywords\n",
    "'exploit' \n",
    "'poor'\n",
    "'human rights' \n",
    "'abuse'\n",
    "'uplift'\n",
    "'lift'"
   ]
  },
  {
   "cell_type": "code",
   "execution_count": 34,
   "metadata": {
    "ExecuteTime": {
     "end_time": "2020-02-27T14:14:19.280360Z",
     "start_time": "2020-02-27T14:14:16.683935Z"
    }
   },
   "outputs": [
    {
     "data": {
      "text/html": [
       "<div>\n",
       "<style scoped>\n",
       "    .dataframe tbody tr th:only-of-type {\n",
       "        vertical-align: middle;\n",
       "    }\n",
       "\n",
       "    .dataframe tbody tr th {\n",
       "        vertical-align: top;\n",
       "    }\n",
       "\n",
       "    .dataframe thead th {\n",
       "        text-align: right;\n",
       "    }\n",
       "</style>\n",
       "<table border=\"1\" class=\"dataframe\">\n",
       "  <thead>\n",
       "    <tr style=\"text-align: right;\">\n",
       "      <th></th>\n",
       "      <th>text</th>\n",
       "    </tr>\n",
       "  </thead>\n",
       "  <tbody>\n",
       "    <tr>\n",
       "      <th>AFP_ENG_19940831.0302</th>\n",
       "      <td>Poor swept under the carpet in Cairo face-lift by Hassan Mekki. A huge facelift is underway in Cairo to clean up the city in time for the UN World Population Conference, but the poorest quarters where residents live in squalor have been completely ignored. Statues have been washed down, bridges and streets repaved, even dusty trees have been hosed to impress the thousands of delegates set to arrive on Monday. But should any visitor stray off the beaten track into the labyrinth of alleys just metres (yards) from the main avenues, they will find a very different picture. Ordinary Egyptians remain unimpressed, and argue that the money going towards the conference should be spent on improving their daily lives. So far no-one knows how much has been spent. Feverish work going on round the clock has not brought an end to the daily grind for many residents as they cope with poverty, noise, dirt and the constant traffic jams.</td>\n",
       "    </tr>\n",
       "    <tr>\n",
       "      <th>AFP_ENG_19950117.0041</th>\n",
       "      <td>UN member nations prepare massive anti-poverty summit by Benedicte Manier. The agenda for a UN anti-poverty summit next March has big goals and a controversial agenda: lifting one billion people out of poverty, creating 800 million jobs and increasing social spending. A total of 180 countries on Monday began the last preparatory meeting before the Copenhagen summit March 6-12. Delegations hope to put the finishing touches on a statement for the heads of state and government to sign. There are the usual points of friction: where will the money come from and exactly what to do with it. Nations define social development differently, and rich and poor nations tend not to agree on how to get there. Eradicating poverty and creating massive numbers of jobs are not the only challenges laid out in the text. It also touches on such politically sensitive topics as cutting defense budgets to finance social spending, foreign aid pledges for poor countries, the end of discrimination against women and slowing population growth.</td>\n",
       "    </tr>\n",
       "    <tr>\n",
       "      <th>AFP_ENG_19950311.0128</th>\n",
       "      <td>France, Denmark lead calls for concrete action after Copenhagen by Pia Ohlin. France and Denmark led calls here Saturday for concrete measures going beyond the formal but non-binding declaration of the UN Summit for Social Development on ending poverty. French President Francois Mitterrand urged a trade-off between rich and poor countries: increased aid from wealthy to developing countries which were ready to end the exploitation of children and other workers. The Copenhagen Declaration, which is to be endorsed by 118 heads of state and government and officials from 66 other countries Sunday, contains 10 non-binding commitments aimed at eradicating poverty, creating jobs and increasing social integration. It has been widely criticized by Third World delegates and Non- Governmental Organisations for failing to provide new financial resources or to make firm commitments in a specified time to tackle the problem of developing countries' debt, now estimated at nearly 2,000 billion dollars. Danish Prime Minister Poul Nyrup Rasmussen opened the weekend ceremonies by urging developed nations to agree to cancel the bilateral debt of the poorest nations in the coming months.</td>\n",
       "    </tr>\n",
       "    <tr>\n",
       "      <th>AFP_ENG_19950311.0220</th>\n",
       "      <td>Calls for concrete action to follow UN Copenhagen summit by Michael Adler. Western leaders at the first-ever UN Summit on Social Development urged Saturday concrete programs going beyond the non-binding pledges made at the 184-nation gathering here. France, Denmark and Germany all proposed action in the fight against poverty, unemployment and social exclusion -- the key themes of the summit. French President Francois Mitterrand urged a trade-off between rich and poor countries: increased aid from wealthy to developing countries which were ready to end the exploitation of children and other workers. The Copenhagen Declaration, which is to be endorsed by 118 heads of state and government and officials from 66 other countries Sunday, contains 10 non-binding commitments and a 65-page plan of action. It has been criticized by many Third World delegates and Non- Governmental Organisations for failing to provide new financial resources or to make firm commitments in a specified time to tackle the problem of developing countries' debt, now estimated at nearly 2,000 billion dollars.</td>\n",
       "    </tr>\n",
       "    <tr>\n",
       "      <th>AFP_ENG_19950321.0140</th>\n",
       "      <td>Five years after independence, Namibia has much to do: Nujoma. Namibia has had only marginal success in closing the massive gap between rich whites and poor blacks in the five years since it gained independence, President Sam Nujoma said here Tuesday. Nujoma, addressing thousands of Namibians gathered at the main stadium here for Independence Day celebrations, vowed \"a relentless fight\" against poverty, disease, hunger and ignorance. But he also struck an optimistic note, saying there was now \"hope that our national economy has taken a turn for the better.\" He pointed to increased production since independence in agriculture, fishing, tourism and manufacturing, and said there would be more emphasis over the next five years on increased livestock production and exploitation of marine resources. During the ceremony, Nujoma was sworn in for a second five year term following the reelection with 73 percent of the popular vote of his Southwest African Peoples' Organization in elections in December.</td>\n",
       "    </tr>\n",
       "    <tr>\n",
       "      <th>...</th>\n",
       "      <td>...</td>\n",
       "    </tr>\n",
       "    <tr>\n",
       "      <th>XIN_ENG_20100713.0262</th>\n",
       "      <td>Brazil to eliminate extreme poverty by 2016: study. Brazil will wipe out extreme poverty and cut the poverty rate to four percent by 2016, said a study released Tuesday by the country's Institute of Applied Economic Research (IPEA). According to the IPEA, 10.5 percent of the country's population are now considered as extremely poor, while 28.8 percent as poor. The poor families have a monthly per capita income of 255 reais (145 U.S. dollars), just half the minimum wage, while the extremely poor families have merely a quarter of the minimum wage, or 127.5 reais (72.85 U.S. dollars). Poverty in Brazil has been on a fast decline in recent years. According to the IPEA, between 1955-2008, 12.8 million Brazilians were lifted out of poverty, while another 12.1 million were pulled out of extreme poverty. The figures represent a 33.6-percent fall in poverty rate and an almost 50-percent drop in extreme poverty rate. Based on the Lula administration's poverty reduction pace since it took office in 2003, the IPEA now estimates that extreme poverty may disappear in the country by 2016.</td>\n",
       "    </tr>\n",
       "    <tr>\n",
       "      <th>XIN_ENG_20100919.0088</th>\n",
       "      <td>Global aid on agenda for NZ FM in New York. New Zealand Foreign Minister Murray McCully leaves for New York on Sunday night (NZ time) for the the opening of the United General Assembly. McCully will also attend a range of associated events and meetings, including global aid discussions, which aims to accelerate progress on achieving Millennium Development Goals ( MDGs) by 2015. Aid organization Oxfam wishes New Zealand to significantly lift the percentage of gross national income on overseas aid. It said pacific ranked poorly in the global fight against poverty and was making the least progress in the world in reducing preventable deaths from childbirth, starvation, unhygienic water and childhood diseases. Mr McCully will also attend a meeting to review the Mauritius Strategy on sustainable development of small islands and developing states. Also on the agenda for Murray McCully was a meeting of the UN Security Council and two Commonwealth disarmament and biodiversity- related summits.  End</td>\n",
       "    </tr>\n",
       "    <tr>\n",
       "      <th>XIN_ENG_20100922.0426</th>\n",
       "      <td>Hong Kong's minimum wage regime to be in place next year:\\nofficial. Secretary for Labor and Welfare of the Hong Kong government, Matthew Cheung, said Wednesday the city aims to have the statutory minimum wage regime implemented in the first half of next year. Cheung said the city's Provisional Minimum Wage Commission will soon submit its recommendation on the initial wage rate to the government for consideration. \"A minimum wage will not eradicate poverty, but will go a long way towards easing the difficulties of the working poor. Gone will be the days of blatant exploitation through paying excessively low wages,\" he said. Cheung said the minimum wage bill, passed two months ago, sets an optimal minimum hourly wage to forestall excessively low pay without unduly affecting labor market flexibility, economic growth and competitiveness. The city's 60-member Legislative Council passed the Minimum Wage bill on July 17, which aims to establish an optimal statutory minimum wage regime to forestall excessively low wages without unduly affecting labor market flexibility, economic growth and competitiveness or causing significant loss in low-paid jobs.</td>\n",
       "    </tr>\n",
       "    <tr>\n",
       "      <th>XIN_ENG_20101022.0010</th>\n",
       "      <td>Haneya: \"Lifeline\" aid convoy strike to Israeli siege on Gaza. Deposed Prime Minister of the Hamas government in Gaza Ismail Haneya said on Friday that the arrival of the European aid convoy \"Lifeline\" at the Gaza Strip \"is a powerful strike to the Israeli siege.\" Haneya told the weekly Friday prayers in Gaza, where members of the Lifeline 5 aid convoy attended, that the arrival of the convoy \"defied the Israeli unfair siege imposed on Gaza and its people.\" \"The Lifeline 5 aid convoy, included leaders, members of parliaments and intellectuals, who brought with aid to the Gaza Strip people worth five million dollars,\" Haneya told the prayers. He added that \"sending more convoys to the Gaza Strip is a step towards the complete lifting of the siege. These convoys condemn the world's silence for keeping the siege imposed on Gaza and its poor people.\" On Thursday, the Lifeline 5 convoy, which included around 140 vehicles and around 300 campaigners, arrived in the Gaza Strip through Egypt. The Lifeline convoy was organized by the British lawmaker George Galloway.</td>\n",
       "    </tr>\n",
       "    <tr>\n",
       "      <th>XIN_ENG_20101116.0017</th>\n",
       "      <td>Roundup: Gazans celebrate Eid al-Adha amid calls to end rift,\\nliftthe blockade. Roundup: Gazans celebrate Eid al-Adha amid calls to end rift, lift the blockade by Ahmed Dabba, Emad Drimly GAZA, Nov. 16 (Xinhua) -- The Palestinians on Tuesday observed world Muslims' biggest holiday Eid al-Adha, or the sacrificial feast, amid calls to end the internal Palestinian rift and more than three years of Israeli blockade imposed on the coastal enclave. Tens of thousands of Palestinian men, women and children went to mosques all over the poor and densely populated enclave for the Eid prayers amid calls for unity between Hamas movement which rules the enclave and Fatah movement of President Mahmoud Abbas which controls the West Bank. Hamas movement seized control of the Gaza Strip by force in June 2007, and routed President Abbas' Fatah party and his security forces. Since then, Israel has been imposing a tight blockade on Gaza, which was eased due to international calls after the Israeli attack on the Gaza-bound aid flotilla on May 31.</td>\n",
       "    </tr>\n",
       "  </tbody>\n",
       "</table>\n",
       "<p>1103 rows × 1 columns</p>\n",
       "</div>"
      ],
      "text/plain": [
       "                                                                                                                                                                                                                                                                                                                                                                                                                                                                                                                                                                                                                                                                                                                                                                                                                                                                                                                                                                                                                                                                                                                                                                                                                                                   text\n",
       "AFP_ENG_19940831.0302  Poor swept under the carpet in Cairo face-lift by Hassan Mekki. A huge facelift is underway in Cairo to clean up the city in time for the UN World Population Conference, but the poorest quarters where residents live in squalor have been completely ignored. Statues have been washed down, bridges and streets repaved, even dusty trees have been hosed to impress the thousands of delegates set to arrive on Monday. But should any visitor stray off the beaten track into the labyrinth of alleys just metres (yards) from the main avenues, they will find a very different picture. Ordinary Egyptians remain unimpressed, and argue that the money going towards the conference should be spent on improving their daily lives. So far no-one knows how much has been spent. Feverish work going on round the clock has not brought an end to the daily grind for many residents as they cope with poverty, noise, dirt and the constant traffic jams.                                                                                                                                                                                                                                                             \n",
       "AFP_ENG_19950117.0041  UN member nations prepare massive anti-poverty summit by Benedicte Manier. The agenda for a UN anti-poverty summit next March has big goals and a controversial agenda: lifting one billion people out of poverty, creating 800 million jobs and increasing social spending. A total of 180 countries on Monday began the last preparatory meeting before the Copenhagen summit March 6-12. Delegations hope to put the finishing touches on a statement for the heads of state and government to sign. There are the usual points of friction: where will the money come from and exactly what to do with it. Nations define social development differently, and rich and poor nations tend not to agree on how to get there. Eradicating poverty and creating massive numbers of jobs are not the only challenges laid out in the text. It also touches on such politically sensitive topics as cutting defense budgets to finance social spending, foreign aid pledges for poor countries, the end of discrimination against women and slowing population growth.                                                                                                                                                            \n",
       "AFP_ENG_19950311.0128  France, Denmark lead calls for concrete action after Copenhagen by Pia Ohlin. France and Denmark led calls here Saturday for concrete measures going beyond the formal but non-binding declaration of the UN Summit for Social Development on ending poverty. French President Francois Mitterrand urged a trade-off between rich and poor countries: increased aid from wealthy to developing countries which were ready to end the exploitation of children and other workers. The Copenhagen Declaration, which is to be endorsed by 118 heads of state and government and officials from 66 other countries Sunday, contains 10 non-binding commitments aimed at eradicating poverty, creating jobs and increasing social integration. It has been widely criticized by Third World delegates and Non- Governmental Organisations for failing to provide new financial resources or to make firm commitments in a specified time to tackle the problem of developing countries' debt, now estimated at nearly 2,000 billion dollars. Danish Prime Minister Poul Nyrup Rasmussen opened the weekend ceremonies by urging developed nations to agree to cancel the bilateral debt of the poorest nations in the coming months.\n",
       "AFP_ENG_19950311.0220  Calls for concrete action to follow UN Copenhagen summit by Michael Adler. Western leaders at the first-ever UN Summit on Social Development urged Saturday concrete programs going beyond the non-binding pledges made at the 184-nation gathering here. France, Denmark and Germany all proposed action in the fight against poverty, unemployment and social exclusion -- the key themes of the summit. French President Francois Mitterrand urged a trade-off between rich and poor countries: increased aid from wealthy to developing countries which were ready to end the exploitation of children and other workers. The Copenhagen Declaration, which is to be endorsed by 118 heads of state and government and officials from 66 other countries Sunday, contains 10 non-binding commitments and a 65-page plan of action. It has been criticized by many Third World delegates and Non- Governmental Organisations for failing to provide new financial resources or to make firm commitments in a specified time to tackle the problem of developing countries' debt, now estimated at nearly 2,000 billion dollars.                                                                                              \n",
       "AFP_ENG_19950321.0140  Five years after independence, Namibia has much to do: Nujoma. Namibia has had only marginal success in closing the massive gap between rich whites and poor blacks in the five years since it gained independence, President Sam Nujoma said here Tuesday. Nujoma, addressing thousands of Namibians gathered at the main stadium here for Independence Day celebrations, vowed \"a relentless fight\" against poverty, disease, hunger and ignorance. But he also struck an optimistic note, saying there was now \"hope that our national economy has taken a turn for the better.\" He pointed to increased production since independence in agriculture, fishing, tourism and manufacturing, and said there would be more emphasis over the next five years on increased livestock production and exploitation of marine resources. During the ceremony, Nujoma was sworn in for a second five year term following the reelection with 73 percent of the popular vote of his Southwest African Peoples' Organization in elections in December.                                                                                                                                                                                 \n",
       "...                                                                                                                                                                                                                                                                                                                                                                                                                                                                                                                                                                                                                                                                                                                                                                                                                                                                                                                                                                                                                                                                ...                                                                                                                                                                                 \n",
       "XIN_ENG_20100713.0262  Brazil to eliminate extreme poverty by 2016: study. Brazil will wipe out extreme poverty and cut the poverty rate to four percent by 2016, said a study released Tuesday by the country's Institute of Applied Economic Research (IPEA). According to the IPEA, 10.5 percent of the country's population are now considered as extremely poor, while 28.8 percent as poor. The poor families have a monthly per capita income of 255 reais (145 U.S. dollars), just half the minimum wage, while the extremely poor families have merely a quarter of the minimum wage, or 127.5 reais (72.85 U.S. dollars). Poverty in Brazil has been on a fast decline in recent years. According to the IPEA, between 1955-2008, 12.8 million Brazilians were lifted out of poverty, while another 12.1 million were pulled out of extreme poverty. The figures represent a 33.6-percent fall in poverty rate and an almost 50-percent drop in extreme poverty rate. Based on the Lula administration's poverty reduction pace since it took office in 2003, the IPEA now estimates that extreme poverty may disappear in the country by 2016.                                                                                              \n",
       "XIN_ENG_20100919.0088  Global aid on agenda for NZ FM in New York. New Zealand Foreign Minister Murray McCully leaves for New York on Sunday night (NZ time) for the the opening of the United General Assembly. McCully will also attend a range of associated events and meetings, including global aid discussions, which aims to accelerate progress on achieving Millennium Development Goals ( MDGs) by 2015. Aid organization Oxfam wishes New Zealand to significantly lift the percentage of gross national income on overseas aid. It said pacific ranked poorly in the global fight against poverty and was making the least progress in the world in reducing preventable deaths from childbirth, starvation, unhygienic water and childhood diseases. Mr McCully will also attend a meeting to review the Mauritius Strategy on sustainable development of small islands and developing states. Also on the agenda for Murray McCully was a meeting of the UN Security Council and two Commonwealth disarmament and biodiversity- related summits.  End                                                                                                                                                                                   \n",
       "XIN_ENG_20100922.0426  Hong Kong's minimum wage regime to be in place next year:\\nofficial. Secretary for Labor and Welfare of the Hong Kong government, Matthew Cheung, said Wednesday the city aims to have the statutory minimum wage regime implemented in the first half of next year. Cheung said the city's Provisional Minimum Wage Commission will soon submit its recommendation on the initial wage rate to the government for consideration. \"A minimum wage will not eradicate poverty, but will go a long way towards easing the difficulties of the working poor. Gone will be the days of blatant exploitation through paying excessively low wages,\" he said. Cheung said the minimum wage bill, passed two months ago, sets an optimal minimum hourly wage to forestall excessively low pay without unduly affecting labor market flexibility, economic growth and competitiveness. The city's 60-member Legislative Council passed the Minimum Wage bill on July 17, which aims to establish an optimal statutory minimum wage regime to forestall excessively low wages without unduly affecting labor market flexibility, economic growth and competitiveness or causing significant loss in low-paid jobs.                       \n",
       "XIN_ENG_20101022.0010  Haneya: \"Lifeline\" aid convoy strike to Israeli siege on Gaza. Deposed Prime Minister of the Hamas government in Gaza Ismail Haneya said on Friday that the arrival of the European aid convoy \"Lifeline\" at the Gaza Strip \"is a powerful strike to the Israeli siege.\" Haneya told the weekly Friday prayers in Gaza, where members of the Lifeline 5 aid convoy attended, that the arrival of the convoy \"defied the Israeli unfair siege imposed on Gaza and its people.\" \"The Lifeline 5 aid convoy, included leaders, members of parliaments and intellectuals, who brought with aid to the Gaza Strip people worth five million dollars,\" Haneya told the prayers. He added that \"sending more convoys to the Gaza Strip is a step towards the complete lifting of the siege. These convoys condemn the world's silence for keeping the siege imposed on Gaza and its poor people.\" On Thursday, the Lifeline 5 convoy, which included around 140 vehicles and around 300 campaigners, arrived in the Gaza Strip through Egypt. The Lifeline convoy was organized by the British lawmaker George Galloway.                                                                                                               \n",
       "XIN_ENG_20101116.0017  Roundup: Gazans celebrate Eid al-Adha amid calls to end rift,\\nliftthe blockade. Roundup: Gazans celebrate Eid al-Adha amid calls to end rift, lift the blockade by Ahmed Dabba, Emad Drimly GAZA, Nov. 16 (Xinhua) -- The Palestinians on Tuesday observed world Muslims' biggest holiday Eid al-Adha, or the sacrificial feast, amid calls to end the internal Palestinian rift and more than three years of Israeli blockade imposed on the coastal enclave. Tens of thousands of Palestinian men, women and children went to mosques all over the poor and densely populated enclave for the Eid prayers amid calls for unity between Hamas movement which rules the enclave and Fatah movement of President Mahmoud Abbas which controls the West Bank. Hamas movement seized control of the Gaza Strip by force in June 2007, and routed President Abbas' Fatah party and his security forces. Since then, Israel has been imposing a tight blockade on Gaza, which was eased due to international calls after the Israeli attack on the Gaza-bound aid flotilla on May 31.                                                                                                                                               \n",
       "\n",
       "[1103 rows x 1 columns]"
      ]
     },
     "execution_count": 34,
     "metadata": {},
     "output_type": "execute_result"
    }
   ],
   "source": [
    "#looking for a mix of positive and negative using - uplift and lift\n",
    "big_df_mix = big_df[(big_df.text.str.contains('exploit') & big_df.text.str.contains('poor')) | (big_df.text.str.contains('lift') & big_df.text.str.contains('poor'))]"
   ]
  }
 ],
 "metadata": {
  "kernelspec": {
   "display_name": "Python 3",
   "language": "python",
   "name": "python3"
  },
  "language_info": {
   "codemirror_mode": {
    "name": "ipython",
    "version": 3
   },
   "file_extension": ".py",
   "mimetype": "text/x-python",
   "name": "python",
   "nbconvert_exporter": "python",
   "pygments_lexer": "ipython3",
   "version": "3.7.2"
  }
 },
 "nbformat": 4,
 "nbformat_minor": 2
}
