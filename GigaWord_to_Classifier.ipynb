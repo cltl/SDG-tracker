{
 "cells": [
  {
   "cell_type": "markdown",
   "metadata": {},
   "source": [
    "# Preparation"
   ]
  },
  {
   "cell_type": "code",
   "execution_count": 1,
   "metadata": {
    "ExecuteTime": {
     "end_time": "2020-03-09T18:40:58.433147Z",
     "start_time": "2020-03-09T18:40:48.283215Z"
    }
   },
   "outputs": [],
   "source": [
    "import pandas as pd\n",
    "import os, random, glob, json\n",
    "from sentence_transformers import SentenceTransformer\n",
    "import nltk\n",
    "import numpy as np\n",
    "from sklearn.svm import LinearSVC"
   ]
  },
  {
   "cell_type": "markdown",
   "metadata": {},
   "source": [
    "# Get dataframe of related and unrelated texts"
   ]
  },
  {
   "cell_type": "code",
   "execution_count": 2,
   "metadata": {
    "ExecuteTime": {
     "end_time": "2020-03-09T18:41:27.128424Z",
     "start_time": "2020-03-09T18:40:58.433147Z"
    }
   },
   "outputs": [],
   "source": [
    "df_list=[]\n",
    "\n",
    "for file in glob.glob('filteredpickles/poverty_pickles/*/*'):\n",
    "    jsonners = json.load(open(file, 'rb'))\n",
    "    columns=['text']\n",
    "    df_list.append(pd.DataFrame.from_dict(jsonners, orient='index', columns= columns))"
   ]
  },
  {
   "cell_type": "code",
   "execution_count": 3,
   "metadata": {
    "ExecuteTime": {
     "end_time": "2020-03-09T18:41:27.315923Z",
     "start_time": "2020-03-09T18:41:27.128424Z"
    }
   },
   "outputs": [],
   "source": [
    "big_df = pd.concat(df_list)"
   ]
  },
  {
   "cell_type": "markdown",
   "metadata": {},
   "source": [
    "# Jan's Keyword Lookup"
   ]
  },
  {
   "cell_type": "code",
   "execution_count": 4,
   "metadata": {
    "ExecuteTime": {
     "end_time": "2020-03-09T18:41:27.331548Z",
     "start_time": "2020-03-09T18:41:27.315923Z"
    }
   },
   "outputs": [],
   "source": [
    "def keyword_search(keywords, big_df, treshold = 0):\n",
    "    articles = []\n",
    "    article_keywords = []\n",
    "    #do a keyword search for the company\n",
    "    for text in big_df['text']:\n",
    "        keywords_found = set()\n",
    "        for keyword in keywords:\n",
    "            if keyword in text:\n",
    "                keywords_found.add(keyword)\n",
    "        if len(keywords_found) >= treshold:\n",
    "            articles.append(text)\n",
    "            article_keywords.append(keywords_found)\n",
    "    return articles, article_keywords"
   ]
  },
  {
   "cell_type": "code",
   "execution_count": 5,
   "metadata": {
    "ExecuteTime": {
     "end_time": "2020-03-09T18:41:27.347173Z",
     "start_time": "2020-03-09T18:41:27.331548Z"
    }
   },
   "outputs": [],
   "source": [
    "topic = 'poverty'"
   ]
  },
  {
   "cell_type": "code",
   "execution_count": 6,
   "metadata": {
    "ExecuteTime": {
     "end_time": "2020-03-09T18:41:32.472135Z",
     "start_time": "2020-03-09T18:41:27.347173Z"
    }
   },
   "outputs": [
    {
     "name": "stdout",
     "output_type": "stream",
     "text": [
      "Number of articles found: 435\n"
     ]
    }
   ],
   "source": [
    "with open(f'keywords/{topic}.txt', 'r', encoding = 'utf-8') as infile:\n",
    "    keywords = infile.read().splitlines()\n",
    "\n",
    "#fine-grained search, kwarg treshold indicates the number of keywords that should be present in the text\n",
    "articles, keywords_per_article = keyword_search(keywords, big_df, treshold = 4)\n",
    "\n",
    "print('Number of articles found:', len(articles))"
   ]
  },
  {
   "cell_type": "code",
   "execution_count": 7,
   "metadata": {
    "ExecuteTime": {
     "end_time": "2020-03-09T18:41:32.487760Z",
     "start_time": "2020-03-09T18:41:32.472135Z"
    }
   },
   "outputs": [],
   "source": [
    "filtered_df = pd.DataFrame(articles)\n",
    "# df"
   ]
  },
  {
   "cell_type": "code",
   "execution_count": 8,
   "metadata": {
    "ExecuteTime": {
     "end_time": "2020-03-09T18:41:32.503385Z",
     "start_time": "2020-03-09T18:41:32.487760Z"
    }
   },
   "outputs": [],
   "source": [
    "filtered_df.columns=['text']"
   ]
  },
  {
   "cell_type": "markdown",
   "metadata": {},
   "source": [
    "### add labels column"
   ]
  },
  {
   "cell_type": "code",
   "execution_count": 23,
   "metadata": {
    "ExecuteTime": {
     "end_time": "2020-03-03T13:36:38.365748Z",
     "start_time": "2020-03-03T13:36:38.346863Z"
    }
   },
   "outputs": [],
   "source": [
    "filtered_df['label'] = 'related'"
   ]
  },
  {
   "cell_type": "markdown",
   "metadata": {},
   "source": [
    "## Random Sampling"
   ]
  },
  {
   "cell_type": "code",
   "execution_count": 9,
   "metadata": {
    "ExecuteTime": {
     "end_time": "2020-03-09T18:43:50.059999Z",
     "start_time": "2020-03-09T18:43:50.044374Z"
    }
   },
   "outputs": [],
   "source": [
    "#Tip: to save memory write the line to a csv file instead of yield\n",
    "\n",
    "def random_list (filename):\n",
    "    with open (filename, 'r') as infile:\n",
    "        print(filename)\n",
    "        file = pd.read_json(infile, orient = 'index')\n",
    "    random_index = random.randint(0,file.shape[0])\n",
    "    if keyword not in file.iloc[random_index-1].text:\n",
    "        #if memory is an issue, uncomment these 3 line:\n",
    "#         text_only = file.iloc[random_index-1]['text'].rstrip('\\n')+'\\n'\n",
    "#         with open ('balancing_data.csv', 'a') as outfile:\n",
    "#             outfile.write(text_only)\n",
    "        # and comment out this section\n",
    "        yield file.iloc[random_index-1]\n",
    "        \n",
    "    else:\n",
    "        pass"
   ]
  },
  {
   "cell_type": "code",
   "execution_count": 10,
   "metadata": {
    "ExecuteTime": {
     "end_time": "2020-03-09T18:44:16.875665Z",
     "start_time": "2020-03-09T18:43:52.997489Z"
    }
   },
   "outputs": [
    {
     "name": "stdout",
     "output_type": "stream",
     "text": [
      "pickles/jsons2/pickle417.json\n",
      "pickles/jsons2/pickle44.json\n",
      "pickles/jsons2/pickle312.json\n",
      "pickles/jsons2/pickle315.json\n",
      "pickles/jsons2/pickle181.json\n",
      "pickles/jsons2/pickle290.json\n",
      "pickles/jsons2/pickle472.json\n",
      "pickles/jsons2/pickle17.json\n",
      "pickles/jsons2/pickle267.json\n",
      "pickles/jsons2/pickle466.json\n",
      "pickles/jsons2/pickle451.json\n",
      "pickles/jsons2/pickle491.json\n",
      "pickles/jsons2/pickle427.json\n",
      "pickles/jsons2/pickle397.json\n",
      "pickles/jsons2/pickle12.json\n",
      "pickles/jsons2/pickle152.json\n",
      "pickles/jsons2/pickle243.json\n",
      "pickles/jsons2/pickle29.json\n",
      "pickles/jsons2/pickle106.json\n",
      "pickles/jsons2/pickle160.json\n",
      "pickles/jsons2/pickle250.json\n",
      "pickles/jsons2/pickle364.json\n",
      "pickles/jsons2/pickle224.json\n",
      "pickles/jsons2/pickle90.json\n",
      "pickles/jsons2/pickle361.json\n",
      "pickles/jsons2/pickle5.json\n",
      "pickles/jsons2/pickle156.json\n",
      "pickles/jsons2/pickle24.json\n",
      "pickles/jsons2/pickle396.json\n",
      "pickles/jsons2/pickle66.json\n",
      "pickles/jsons2/pickle380.json\n",
      "pickles/jsons2/pickle307.json\n",
      "pickles/jsons2/pickle318.json\n",
      "pickles/jsons2/pickle426.json\n",
      "pickles/jsons2/pickle296.json\n",
      "pickles/jsons2/pickle305.json\n",
      "pickles/jsons2/pickle276.json\n",
      "pickles/jsons2/pickle64.json\n",
      "pickles/jsons2/pickle339.json\n",
      "pickles/jsons2/pickle443.json\n",
      "pickles/jsons2/pickle324.json\n",
      "pickles/jsons2/pickle151.json\n",
      "pickles/jsons2/pickle298.json\n",
      "pickles/jsons2/pickle417.json\n",
      "pickles/jsons2/pickle206.json\n",
      "pickles/jsons2/pickle451.json\n",
      "pickles/jsons2/pickle393.json\n",
      "pickles/jsons2/pickle463.json\n",
      "pickles/jsons2/pickle488.json\n",
      "pickles/jsons2/pickle450.json\n",
      "pickles/jsons2/pickle396.json\n",
      "pickles/jsons2/pickle471.json\n",
      "pickles/jsons2/pickle38.json\n",
      "pickles/jsons2/pickle361.json\n",
      "pickles/jsons2/pickle313.json\n",
      "pickles/jsons2/pickle449.json\n",
      "pickles/jsons2/pickle117.json\n",
      "pickles/jsons2/pickle361.json\n",
      "pickles/jsons2/pickle173.json\n",
      "pickles/jsons2/pickle173.json\n",
      "pickles/jsons2/pickle4.json\n",
      "pickles/jsons2/pickle262.json\n",
      "pickles/jsons2/pickle456.json\n",
      "pickles/jsons2/pickle276.json\n",
      "pickles/jsons2/pickle152.json\n",
      "pickles/jsons2/pickle140.json\n",
      "pickles/jsons2/pickle216.json\n",
      "pickles/jsons2/pickle110.json\n",
      "pickles/jsons2/pickle317.json\n",
      "pickles/jsons2/pickle139.json\n",
      "pickles/jsons2/pickle224.json\n",
      "pickles/jsons2/pickle227.json\n",
      "pickles/jsons2/pickle340.json\n",
      "pickles/jsons2/pickle479.json\n",
      "pickles/jsons2/pickle331.json\n",
      "pickles/jsons2/pickle247.json\n",
      "pickles/jsons2/pickle184.json\n",
      "pickles/jsons2/pickle357.json\n",
      "pickles/jsons2/pickle151.json\n",
      "pickles/jsons2/pickle234.json\n",
      "pickles/jsons2/pickle18.json\n",
      "pickles/jsons2/pickle304.json\n",
      "pickles/jsons2/pickle186.json\n",
      "pickles/jsons2/pickle439.json\n",
      "pickles/jsons2/pickle146.json\n",
      "pickles/jsons2/pickle378.json\n",
      "pickles/jsons2/pickle22.json\n",
      "pickles/jsons2/pickle279.json\n",
      "pickles/jsons2/pickle489.json\n",
      "pickles/jsons2/pickle448.json\n",
      "pickles/jsons2/pickle263.json\n",
      "pickles/jsons2/pickle458.json\n",
      "pickles/jsons2/pickle434.json\n",
      "pickles/jsons2/pickle185.json\n",
      "pickles/jsons2/pickle233.json\n",
      "pickles/jsons2/pickle136.json\n",
      "pickles/jsons2/pickle192.json\n",
      "pickles/jsons2/pickle116.json\n",
      "pickles/jsons2/pickle388.json\n",
      "pickles/jsons2/pickle253.json\n",
      "pickles/jsons2/pickle446.json\n",
      "pickles/jsons2/pickle7.json\n",
      "pickles/jsons2/pickle187.json\n",
      "pickles/jsons2/pickle234.json\n",
      "pickles/jsons2/pickle263.json\n",
      "pickles/jsons2/pickle473.json\n",
      "pickles/jsons2/pickle398.json\n",
      "pickles/jsons2/pickle28.json\n",
      "pickles/jsons2/pickle356.json\n",
      "pickles/jsons2/pickle467.json\n",
      "pickles/jsons2/pickle482.json\n",
      "pickles/jsons2/pickle384.json\n",
      "pickles/jsons2/pickle228.json\n",
      "pickles/jsons2/pickle509.json\n",
      "pickles/jsons2/pickle480.json\n",
      "pickles/jsons2/pickle165.json\n",
      "pickles/jsons2/pickle341.json\n"
     ]
    },
    {
     "ename": "KeyboardInterrupt",
     "evalue": "",
     "output_type": "error",
     "traceback": [
      "\u001b[1;31m---------------------------------------------------------------------------\u001b[0m",
      "\u001b[1;31mKeyboardInterrupt\u001b[0m                         Traceback (most recent call last)",
      "\u001b[1;32m<ipython-input-10-daeeccdab0f6>\u001b[0m in \u001b[0;36m<module>\u001b[1;34m\u001b[0m\n\u001b[0;32m      4\u001b[0m \u001b[1;32mwhile\u001b[0m \u001b[0mlen\u001b[0m\u001b[1;33m(\u001b[0m\u001b[0msyphon\u001b[0m\u001b[1;33m)\u001b[0m \u001b[1;33m<\u001b[0m \u001b[0mnum\u001b[0m\u001b[1;33m:\u001b[0m\u001b[1;33m\u001b[0m\u001b[1;33m\u001b[0m\u001b[0m\n\u001b[0;32m      5\u001b[0m     \u001b[0mfilename\u001b[0m \u001b[1;33m=\u001b[0m \u001b[1;34mf'pickles/jsons2/{random.choice(os.listdir(\"pickles/jsons2\"))}'\u001b[0m\u001b[1;33m\u001b[0m\u001b[1;33m\u001b[0m\u001b[0m\n\u001b[1;32m----> 6\u001b[1;33m     \u001b[0msyphon\u001b[0m\u001b[1;33m.\u001b[0m\u001b[0mextend\u001b[0m\u001b[1;33m(\u001b[0m\u001b[0mrandom_list\u001b[0m\u001b[1;33m(\u001b[0m\u001b[0mfilename\u001b[0m\u001b[1;33m)\u001b[0m\u001b[1;33m)\u001b[0m\u001b[1;33m\u001b[0m\u001b[1;33m\u001b[0m\u001b[0m\n\u001b[0m\u001b[0;32m      7\u001b[0m \u001b[1;33m\u001b[0m\u001b[0m\n",
      "\u001b[1;32m<ipython-input-9-e71b84e4e55c>\u001b[0m in \u001b[0;36mrandom_list\u001b[1;34m(filename)\u001b[0m\n\u001b[0;32m      4\u001b[0m     \u001b[1;32mwith\u001b[0m \u001b[0mopen\u001b[0m \u001b[1;33m(\u001b[0m\u001b[0mfilename\u001b[0m\u001b[1;33m,\u001b[0m \u001b[1;34m'r'\u001b[0m\u001b[1;33m)\u001b[0m \u001b[1;32mas\u001b[0m \u001b[0minfile\u001b[0m\u001b[1;33m:\u001b[0m\u001b[1;33m\u001b[0m\u001b[1;33m\u001b[0m\u001b[0m\n\u001b[0;32m      5\u001b[0m         \u001b[0mprint\u001b[0m\u001b[1;33m(\u001b[0m\u001b[0mfilename\u001b[0m\u001b[1;33m)\u001b[0m\u001b[1;33m\u001b[0m\u001b[1;33m\u001b[0m\u001b[0m\n\u001b[1;32m----> 6\u001b[1;33m         \u001b[0mfile\u001b[0m \u001b[1;33m=\u001b[0m \u001b[0mpd\u001b[0m\u001b[1;33m.\u001b[0m\u001b[0mread_json\u001b[0m\u001b[1;33m(\u001b[0m\u001b[0minfile\u001b[0m\u001b[1;33m,\u001b[0m \u001b[0morient\u001b[0m \u001b[1;33m=\u001b[0m \u001b[1;34m'index'\u001b[0m\u001b[1;33m)\u001b[0m\u001b[1;33m\u001b[0m\u001b[1;33m\u001b[0m\u001b[0m\n\u001b[0m\u001b[0;32m      7\u001b[0m     \u001b[0mrandom_index\u001b[0m \u001b[1;33m=\u001b[0m \u001b[0mrandom\u001b[0m\u001b[1;33m.\u001b[0m\u001b[0mrandint\u001b[0m\u001b[1;33m(\u001b[0m\u001b[1;36m0\u001b[0m\u001b[1;33m,\u001b[0m\u001b[0mfile\u001b[0m\u001b[1;33m.\u001b[0m\u001b[0mshape\u001b[0m\u001b[1;33m[\u001b[0m\u001b[1;36m0\u001b[0m\u001b[1;33m]\u001b[0m\u001b[1;33m)\u001b[0m\u001b[1;33m\u001b[0m\u001b[1;33m\u001b[0m\u001b[0m\n\u001b[0;32m      8\u001b[0m     \u001b[1;32mif\u001b[0m \u001b[0mkeyword\u001b[0m \u001b[1;32mnot\u001b[0m \u001b[1;32min\u001b[0m \u001b[0mfile\u001b[0m\u001b[1;33m.\u001b[0m\u001b[0miloc\u001b[0m\u001b[1;33m[\u001b[0m\u001b[0mrandom_index\u001b[0m\u001b[1;33m-\u001b[0m\u001b[1;36m1\u001b[0m\u001b[1;33m]\u001b[0m\u001b[1;33m.\u001b[0m\u001b[0mtext\u001b[0m\u001b[1;33m:\u001b[0m\u001b[1;33m\u001b[0m\u001b[1;33m\u001b[0m\u001b[0m\n",
      "\u001b[1;32m~\\AppData\\Roaming\\Python\\Python37\\site-packages\\pandas\\io\\json\\_json.py\u001b[0m in \u001b[0;36mread_json\u001b[1;34m(path_or_buf, orient, typ, dtype, convert_axes, convert_dates, keep_default_dates, numpy, precise_float, date_unit, encoding, lines, chunksize, compression)\u001b[0m\n\u001b[0;32m    590\u001b[0m         \u001b[1;32mreturn\u001b[0m \u001b[0mjson_reader\u001b[0m\u001b[1;33m\u001b[0m\u001b[1;33m\u001b[0m\u001b[0m\n\u001b[0;32m    591\u001b[0m \u001b[1;33m\u001b[0m\u001b[0m\n\u001b[1;32m--> 592\u001b[1;33m     \u001b[0mresult\u001b[0m \u001b[1;33m=\u001b[0m \u001b[0mjson_reader\u001b[0m\u001b[1;33m.\u001b[0m\u001b[0mread\u001b[0m\u001b[1;33m(\u001b[0m\u001b[1;33m)\u001b[0m\u001b[1;33m\u001b[0m\u001b[1;33m\u001b[0m\u001b[0m\n\u001b[0m\u001b[0;32m    593\u001b[0m     \u001b[1;32mif\u001b[0m \u001b[0mshould_close\u001b[0m\u001b[1;33m:\u001b[0m\u001b[1;33m\u001b[0m\u001b[1;33m\u001b[0m\u001b[0m\n\u001b[0;32m    594\u001b[0m         \u001b[1;32mtry\u001b[0m\u001b[1;33m:\u001b[0m\u001b[1;33m\u001b[0m\u001b[1;33m\u001b[0m\u001b[0m\n",
      "\u001b[1;32m~\\AppData\\Roaming\\Python\\Python37\\site-packages\\pandas\\io\\json\\_json.py\u001b[0m in \u001b[0;36mread\u001b[1;34m(self)\u001b[0m\n\u001b[0;32m    715\u001b[0m             \u001b[0mobj\u001b[0m \u001b[1;33m=\u001b[0m \u001b[0mself\u001b[0m\u001b[1;33m.\u001b[0m\u001b[0m_get_object_parser\u001b[0m\u001b[1;33m(\u001b[0m\u001b[0mself\u001b[0m\u001b[1;33m.\u001b[0m\u001b[0m_combine_lines\u001b[0m\u001b[1;33m(\u001b[0m\u001b[0mdata\u001b[0m\u001b[1;33m.\u001b[0m\u001b[0msplit\u001b[0m\u001b[1;33m(\u001b[0m\u001b[1;34m\"\\n\"\u001b[0m\u001b[1;33m)\u001b[0m\u001b[1;33m)\u001b[0m\u001b[1;33m)\u001b[0m\u001b[1;33m\u001b[0m\u001b[1;33m\u001b[0m\u001b[0m\n\u001b[0;32m    716\u001b[0m         \u001b[1;32melse\u001b[0m\u001b[1;33m:\u001b[0m\u001b[1;33m\u001b[0m\u001b[1;33m\u001b[0m\u001b[0m\n\u001b[1;32m--> 717\u001b[1;33m             \u001b[0mobj\u001b[0m \u001b[1;33m=\u001b[0m \u001b[0mself\u001b[0m\u001b[1;33m.\u001b[0m\u001b[0m_get_object_parser\u001b[0m\u001b[1;33m(\u001b[0m\u001b[0mself\u001b[0m\u001b[1;33m.\u001b[0m\u001b[0mdata\u001b[0m\u001b[1;33m)\u001b[0m\u001b[1;33m\u001b[0m\u001b[1;33m\u001b[0m\u001b[0m\n\u001b[0m\u001b[0;32m    718\u001b[0m         \u001b[0mself\u001b[0m\u001b[1;33m.\u001b[0m\u001b[0mclose\u001b[0m\u001b[1;33m(\u001b[0m\u001b[1;33m)\u001b[0m\u001b[1;33m\u001b[0m\u001b[1;33m\u001b[0m\u001b[0m\n\u001b[0;32m    719\u001b[0m         \u001b[1;32mreturn\u001b[0m \u001b[0mobj\u001b[0m\u001b[1;33m\u001b[0m\u001b[1;33m\u001b[0m\u001b[0m\n",
      "\u001b[1;32m~\\AppData\\Roaming\\Python\\Python37\\site-packages\\pandas\\io\\json\\_json.py\u001b[0m in \u001b[0;36m_get_object_parser\u001b[1;34m(self, json)\u001b[0m\n\u001b[0;32m    737\u001b[0m         \u001b[0mobj\u001b[0m \u001b[1;33m=\u001b[0m \u001b[1;32mNone\u001b[0m\u001b[1;33m\u001b[0m\u001b[1;33m\u001b[0m\u001b[0m\n\u001b[0;32m    738\u001b[0m         \u001b[1;32mif\u001b[0m \u001b[0mtyp\u001b[0m \u001b[1;33m==\u001b[0m \u001b[1;34m\"frame\"\u001b[0m\u001b[1;33m:\u001b[0m\u001b[1;33m\u001b[0m\u001b[1;33m\u001b[0m\u001b[0m\n\u001b[1;32m--> 739\u001b[1;33m             \u001b[0mobj\u001b[0m \u001b[1;33m=\u001b[0m \u001b[0mFrameParser\u001b[0m\u001b[1;33m(\u001b[0m\u001b[0mjson\u001b[0m\u001b[1;33m,\u001b[0m \u001b[1;33m**\u001b[0m\u001b[0mkwargs\u001b[0m\u001b[1;33m)\u001b[0m\u001b[1;33m.\u001b[0m\u001b[0mparse\u001b[0m\u001b[1;33m(\u001b[0m\u001b[1;33m)\u001b[0m\u001b[1;33m\u001b[0m\u001b[1;33m\u001b[0m\u001b[0m\n\u001b[0m\u001b[0;32m    740\u001b[0m \u001b[1;33m\u001b[0m\u001b[0m\n\u001b[0;32m    741\u001b[0m         \u001b[1;32mif\u001b[0m \u001b[0mtyp\u001b[0m \u001b[1;33m==\u001b[0m \u001b[1;34m\"series\"\u001b[0m \u001b[1;32mor\u001b[0m \u001b[0mobj\u001b[0m \u001b[1;32mis\u001b[0m \u001b[1;32mNone\u001b[0m\u001b[1;33m:\u001b[0m\u001b[1;33m\u001b[0m\u001b[1;33m\u001b[0m\u001b[0m\n",
      "\u001b[1;32m~\\AppData\\Roaming\\Python\\Python37\\site-packages\\pandas\\io\\json\\_json.py\u001b[0m in \u001b[0;36mparse\u001b[1;34m(self)\u001b[0m\n\u001b[0;32m    847\u001b[0m \u001b[1;33m\u001b[0m\u001b[0m\n\u001b[0;32m    848\u001b[0m         \u001b[1;32melse\u001b[0m\u001b[1;33m:\u001b[0m\u001b[1;33m\u001b[0m\u001b[1;33m\u001b[0m\u001b[0m\n\u001b[1;32m--> 849\u001b[1;33m             \u001b[0mself\u001b[0m\u001b[1;33m.\u001b[0m\u001b[0m_parse_no_numpy\u001b[0m\u001b[1;33m(\u001b[0m\u001b[1;33m)\u001b[0m\u001b[1;33m\u001b[0m\u001b[1;33m\u001b[0m\u001b[0m\n\u001b[0m\u001b[0;32m    850\u001b[0m \u001b[1;33m\u001b[0m\u001b[0m\n\u001b[0;32m    851\u001b[0m         \u001b[1;32mif\u001b[0m \u001b[0mself\u001b[0m\u001b[1;33m.\u001b[0m\u001b[0mobj\u001b[0m \u001b[1;32mis\u001b[0m \u001b[1;32mNone\u001b[0m\u001b[1;33m:\u001b[0m\u001b[1;33m\u001b[0m\u001b[1;33m\u001b[0m\u001b[0m\n",
      "\u001b[1;32m~\\AppData\\Roaming\\Python\\Python37\\site-packages\\pandas\\io\\json\\_json.py\u001b[0m in \u001b[0;36m_parse_no_numpy\u001b[1;34m(self)\u001b[0m\n\u001b[0;32m   1105\u001b[0m                     \u001b[0mloads\u001b[0m\u001b[1;33m(\u001b[0m\u001b[0mjson\u001b[0m\u001b[1;33m,\u001b[0m \u001b[0mprecise_float\u001b[0m\u001b[1;33m=\u001b[0m\u001b[0mself\u001b[0m\u001b[1;33m.\u001b[0m\u001b[0mprecise_float\u001b[0m\u001b[1;33m)\u001b[0m\u001b[1;33m,\u001b[0m\u001b[1;33m\u001b[0m\u001b[1;33m\u001b[0m\u001b[0m\n\u001b[0;32m   1106\u001b[0m                     \u001b[0mdtype\u001b[0m\u001b[1;33m=\u001b[0m\u001b[1;32mNone\u001b[0m\u001b[1;33m,\u001b[0m\u001b[1;33m\u001b[0m\u001b[1;33m\u001b[0m\u001b[0m\n\u001b[1;32m-> 1107\u001b[1;33m                     \u001b[0morient\u001b[0m\u001b[1;33m=\u001b[0m\u001b[1;34m\"index\"\u001b[0m\u001b[1;33m,\u001b[0m\u001b[1;33m\u001b[0m\u001b[1;33m\u001b[0m\u001b[0m\n\u001b[0m\u001b[0;32m   1108\u001b[0m                 )\n\u001b[0;32m   1109\u001b[0m                 \u001b[1;33m.\u001b[0m\u001b[0msort_index\u001b[0m\u001b[1;33m(\u001b[0m\u001b[0maxis\u001b[0m\u001b[1;33m=\u001b[0m\u001b[1;34m\"columns\"\u001b[0m\u001b[1;33m)\u001b[0m\u001b[1;33m\u001b[0m\u001b[1;33m\u001b[0m\u001b[0m\n",
      "\u001b[1;32m~\\AppData\\Roaming\\Python\\Python37\\site-packages\\pandas\\core\\frame.py\u001b[0m in \u001b[0;36mfrom_dict\u001b[1;34m(cls, data, orient, dtype, columns)\u001b[0m\n\u001b[0;32m   1107\u001b[0m     \u001b[1;31m# IO methods (to / from other formats)\u001b[0m\u001b[1;33m\u001b[0m\u001b[1;33m\u001b[0m\u001b[1;33m\u001b[0m\u001b[0m\n\u001b[0;32m   1108\u001b[0m \u001b[1;33m\u001b[0m\u001b[0m\n\u001b[1;32m-> 1109\u001b[1;33m     \u001b[1;33m@\u001b[0m\u001b[0mclassmethod\u001b[0m\u001b[1;33m\u001b[0m\u001b[1;33m\u001b[0m\u001b[0m\n\u001b[0m\u001b[0;32m   1110\u001b[0m     \u001b[1;32mdef\u001b[0m \u001b[0mfrom_dict\u001b[0m\u001b[1;33m(\u001b[0m\u001b[0mcls\u001b[0m\u001b[1;33m,\u001b[0m \u001b[0mdata\u001b[0m\u001b[1;33m,\u001b[0m \u001b[0morient\u001b[0m\u001b[1;33m=\u001b[0m\u001b[1;34m\"columns\"\u001b[0m\u001b[1;33m,\u001b[0m \u001b[0mdtype\u001b[0m\u001b[1;33m=\u001b[0m\u001b[1;32mNone\u001b[0m\u001b[1;33m,\u001b[0m \u001b[0mcolumns\u001b[0m\u001b[1;33m=\u001b[0m\u001b[1;32mNone\u001b[0m\u001b[1;33m)\u001b[0m\u001b[1;33m:\u001b[0m\u001b[1;33m\u001b[0m\u001b[1;33m\u001b[0m\u001b[0m\n\u001b[0;32m   1111\u001b[0m         \"\"\"\n",
      "\u001b[1;31mKeyboardInterrupt\u001b[0m: "
     ]
    }
   ],
   "source": [
    "num = filtered_df.shape[0]\n",
    "keyword = 'poverty'\n",
    "syphon = []\n",
    "while len(syphon) < num:\n",
    "    filename = f'pickles/jsons2/{random.choice(os.listdir(\"pickles/jsons2\"))}'\n",
    "    syphon.extend(random_list(filename))\n",
    "    "
   ]
  },
  {
   "cell_type": "code",
   "execution_count": 26,
   "metadata": {
    "ExecuteTime": {
     "end_time": "2020-03-03T13:43:02.425463Z",
     "start_time": "2020-03-03T13:43:02.399896Z"
    }
   },
   "outputs": [],
   "source": [
    "list_for_balancing = []\n",
    "\n",
    "for gen_list in syphon:\n",
    "    list_for_balancing.append(gen_list)"
   ]
  },
  {
   "cell_type": "code",
   "execution_count": 30,
   "metadata": {
    "ExecuteTime": {
     "end_time": "2020-03-03T13:43:07.391082Z",
     "start_time": "2020-03-03T13:43:07.312460Z"
    }
   },
   "outputs": [],
   "source": [
    "balance_df = pd.DataFrame(list_for_balancing)"
   ]
  },
  {
   "cell_type": "code",
   "execution_count": 34,
   "metadata": {
    "ExecuteTime": {
     "end_time": "2020-03-03T13:44:11.018115Z",
     "start_time": "2020-03-03T13:44:11.005202Z"
    },
    "scrolled": true
   },
   "outputs": [
    {
     "data": {
      "text/plain": [
       "NYT_ENG_19990801.0137    COMMENTARY: VOODOO REDUX. Here we go again. Back in 1980, Ronald Reagan assured one and all that he could cut taxes sharply, increase defense spending substantially and balance the federal budget. If it had been a television commercial instead of real life we would have seen a close-up of Reagan happily saying, ``I can do that,'' followed by a shot of him, perplexed, asking, ``How am I gonna do that?'' George Herbert Walker Bush famously derided Reagan's supply-side fantasies as ``voodoo economics.'' And the veteran Washington Post reporter Lou Cannon, in his book ``President Reagan: The Role of a Lifetime,'' described the reaction of James Baker, Reagan's own chief-of-staff, to the transformation of economic fantasy into national policy. He wrote: ``Though not particularly well-versed in economics, Baker suspected that there was something screwy about the idea that massive tax cuts would increase government revenues. Later, he would privately express regrets that the deficits had `gotten away' from the administration and wished he had paid more attention to the consequences of the tax cuts.''                                                                                                                                                                                                                                                                                                                                                                                                                                                                                                                                                                                      \n",
       "NYT_ENG_19980119.0621    ISLAND LIVING AT BARGAIN PRICES. Show me a better deal than a 600-square-foot cottage next to San Francisco Bay for $400, including a three-car garage, garden, private security and quick access to the Financial District, and I'll pay the rent for a month. Four hundred a month is what Wendy Linka, the $65,858-a-year director of marketing for Treasure Island, pays for the caretaker's cottage behind Admiral Nimitz's old mansion on Yerba Buena Island. Now that the Navy is gone, the mayor's office is the landlord. The rent, figured by the city of San Francisco at $1 per square foot, is $600. Linka pays $200 less because of duties as the mansion's caretaker. In October I wrote that Linka lived in the cottage rent-free. Sorry, I was a few bucks and a few days off. Documents show that the city began deducting the $400 from her paycheck on Oct. 1, 1997, with additional funds deducted for rent back to May 1, when her lease began.                                                                                                                                                                                                                                                                                                                                                                                                                                                                                                                                                                                                                                                                                                                                                                       \n",
       "APW_ENG_20061117.1112    One child abused every hour in Zimbabwe, child protection groups report. New data shows a child is abused every hour in Zimbabwe and more than half the reported cases involve sexual abuse, a coalition of child protection groups said Friday. \"Are Zimbabweans really horrified by these statistics?\" said Childline director Audrey Gumbo. \"Are we really being jolted into action? Because this is what is needed -- action,\" including the strict enforcement of existing child protection laws. The Child Protection Working Group said sexual abuse was worsened by beliefs that sexually transmitted diseases, including HIV/AIDS, could be cured by having sex with a virgin. \"This is the most repulsive of myths,\" said Betty Makoni, director of Girl Child Network, a member of the Child Protection Working Group. Data released ahead of the World Day for the Prevention of Child Abuse on Sunday showed 8,600 cases of abuse -- or 24 a day, or one an hour -- were reported last year across this country of nearly 12 million people. Other cases went unreported. There was no indication trends had changed.                                                                                                                                                                                                                                                                                                                                                                                                                                                                                                                                                                                                          \n",
       "AFP_ENG_19970131.0060    South Korean authorities arrest Hanbo chief. Chung Tae-Soo, head of South Korea's debt-stricken Hanbo Group, was arrested Friday on charges of issuing unpaid promissory notes, a television report said. Following overnight questioning at the Prosecutor General's Office, Chung was charged with fraud for allegedly issuing promissory notes worth millions of dollars while fully aware they could not be honoured. The Hanbo chief was also alleged to have embezzled some 50 million dollars in illegal loans from a mutual trust fund of which he was the largest shareholder. The Hanbo Group's four major subsidiaries -- Hanbo Energy, Sang-A Pharmaceutical Co., Hanbo Steel and General Construction Co. and Hanbo Corp. -- have sought bankruptcy protection. The Hanbo debt troubles have triggered allegations that the group used high-level connections to obtain loans without sufficient collateral.                                                                                                                                                                                                                                                                                                                                                                                                                                                                                                                                                                                                                                                                                                                                                                                                                   \n",
       "APW_ENG_20070804.0559    Finnish Rally Results. Results Saturday from the Finnish Rally world championship event after the second leg, 20 of 23 special stages, 319.6 kilometers: 1. Marcus Gronholm, Finland, Ford, 2 hours, 36 minutes, 45.2 seconds. 2. Mikko Hirvonen, Finland, Ford, 20.4 seconds behind. 3. Sebastien Loeb, France, Citroen, 1:00.5. 4. Chris Atkinson, Australia, Subaru, 2:41.3.                                                                                                                                                                                                                                                                                                                                                                                                                                                                                                                                                                                                                                                                                                                                                                                                                                                                                                                                                                                                                                                                                                                                                                                                                                                                                                                                                             \n",
       "                                                                                                                                                                                                              ...                                                                                                                                                                                                                                                                                                                                                                                                                                                                                                                                                                                                                                                                                                                                                                                                                                                                                                                                                                                                                                                                                                                                                                                                                                                                                                                                                                                                                                                                                                                                                    \n",
       "APW_ENG_20100920.0398    Fashion greats remember McQueen in London service. Fashionistas celebrated the life and legacy of Alexander McQueen in a solemn ceremony at St. Paul's Cathedral on Monday, seven months after his suicide shocked the designing world. The service for McQueen briefly brought London Fashion Week to a halt as top designers, models and editors came to pay their respects to the enfant terrible of British fashion, who was 40 when he died in early February. He had a history of depression and was said to be devastated by the recent loss of his mother. His suicide has deprived the British fashion world of its biggest and most controversial star. The service was attended by many of the models and actresses who loved McQueen's work, including Naomi Campbell, Kate Moss, Sarah Jessica Parker, Jade Parfitt and others, including designer Stella McCartney. Anna Wintour, editor-in-chief of the American edition of Vogue magazine, was the first of McQueen's admirers to speak. Wearing an elegant black-and-gold outfit, she praised his \"exceptional legacy of brilliant inspiration.\"                                                                                                                                                                                                                                                                                                                                                                                                                                                                                                                                                                                                                           \n",
       "AFP_ENG_19941115.0022    Tamils urge reciprocal gesture to Tiger truce. Tamil politicians urged the government Tuesday to formally respond to a unilateral ceasefire declared over the weekend by separatist Tamil Tiger guerrillas. The Liberation Tigers of Tamil Eelam (LTTE) called the one-week truce to mark Saturday's inauguration of new President Chandrika Kumaratunga, who had initiated talks with the rebels to end ethnic bloodletting. \"The LTTE by its ceasefire has demonstrated that it wants the peace process to continue. What is going to be the government's response?\" Tamil legislator Dharmalingam Sidhathan said. Sidhathan leads the anti-LTTE Democratic People's Liberation Front (DPLF). President Kumaratunga suspended talks with Tigers after the rebels were implicated in killing 57 people at an opposition rally last month, including opposition leader, Gamini Dissanayake.                                                                                                                                                                                                                                                                                                                                                                                                                                                                                                                                                                                                                                                                                                                                                                                                                                                 \n",
       "NYT_ENG_19990517.0460    GENERAL DYNAMICS TO BUY GULFSTREAM, MAKER OF JET PLANES. The General Dynamics Corp., a military contractor that specializes in making nuclear submarines, surface ships and tanks, announced Monday that it would acquire the Gulfstream Aerospace Corp., a maker of corporate jets, for $5.3 billion in a deal that returns General Dynamics to a business it once shed. The Gulfstream acquisition, a 1-for-1 stock swap that would give General Dynamics shares to Gulfstream shareholders, would add a new and potentially cyclical business to General Dynamics' product line, which is heavily laden with armaments that are steady cash generators. It would also move General Dynamics back to the aerospace industry, a business it stepped away from in the early 1990s when it sold Cessna Aircraft, a maker of business jets, to Textron and when it sold its F-16 fighter jet operations to Lockheed Martin as well as its missile division to Hughes Electronics. The deal for Gulfstream elicited mix reaction on Wall Street. General Dynamics tumbled nearly 10 percent, or $6.1875, to $65.25, after having traded as low as $63.25 by midday. Still, while many on Wall Street were skeptical about the deal, others said Gulfstream would add a strong cash generator to the company, even if it took General Dynamics in a new direction. ``The deal makes a lot of sense from a financial perspective,'' said Pierre Chao, an analyst with Morgan Stanley Dean Witter. ``General Dynamics is adding a company with a solid background and great cash flow, which will allow them to fuel further defense acquisitions.'' He said the market was forgetting that General Dynamics used to be in the aerospace business.\n",
       "AFP_ENG_20090729.0244    Croatia, Slovenia PMs to meet over border row. Croatia said Wednesday that its new prime minister will meet this week with her counterpart from Slovenia, which is blocking Zagreb's EU accession over a long- running border row. Jadranka Kosor, who became Croatia's first woman premier earlier this month, was to hold talks Friday with Slovenia's Borut Pahor in Trakoscan, some 70 kilometres (43 miles) north of Zagreb, said a government statement. \"With this meeting, a bilateral dialogue on the level of the premiers which started in February will continue,\" it said referring to a meeting in Slovenia between Pahor and Kosor's predecessor Ivo Sanader. Slovenia has been blocking Croatia's talks to join the European Union since December over a border dispute dating back to 1991, when both countries proclaimed independence from the former Yugoslavia. Kosor said Wednesday she was \"very optimisic\" of resolving the issue, which concerns a small slice of land and sea crucial for Slovenia's access to the Adriatic Sea and international shipping waters.                                                                                                                                                                                                                                                                                                                                                                                                                                                                                                                                                                                                                                                \n",
       "NYT_ENG_19980423.0404    Bad report for NASA's pet project. ATLANTA ---- The international space station, which NASA claimed a year ago was ``on time and under budget,'' is neither, a blue-ribbon task force warned Thursday in a stinging analysis that calls the current schedule and cost estimates unrealistic and unachievable. The analysis, which NASA requested last year, said construction of the space station, which was due to begin in June, will ``likely'' take one to three years longer than NASA envisioned and cost as much as $24.7 billion, or 30 percent more than NASA assured Congress it would take to complete the project. The task force blamed the grim new reality check on prime contractor Boeing's cost overruns, already approaching $1 billion, construction delays by Russian and U.S. contractors, and NASA's failure to properly manage ``the most complex and technically challenging achievement in human spaceflight since landing on the moon.'' Although the space station has been redesigned and downsized six times since being proposed by President Ronald Reagan in 1982, NASA may have to think about shrinking it again, task force Chairman Jay Chabrow said. ``The present program should be revised so that it is achievable within the financial resources available,'' Chabrow told NASA Administrator Daniel Goldin. ``If necessary, program content should be eliminated or deferred to fit within funding constraints.''                                                                                                                                                                                                                                                                               \n",
       "Name: text, Length: 431, dtype: object"
      ]
     },
     "execution_count": 34,
     "metadata": {},
     "output_type": "execute_result"
    }
   ],
   "source": [
    "pd.set_option('display.max_colwidth', -1)\n",
    "balance_df['text']"
   ]
  },
  {
   "cell_type": "code",
   "execution_count": 35,
   "metadata": {
    "ExecuteTime": {
     "end_time": "2020-03-03T13:47:18.501549Z",
     "start_time": "2020-03-03T13:47:18.478327Z"
    }
   },
   "outputs": [],
   "source": [
    "balance_df.drop('date', inplace=True, axis = 1)"
   ]
  },
  {
   "cell_type": "markdown",
   "metadata": {},
   "source": [
    "### add label"
   ]
  },
  {
   "cell_type": "code",
   "execution_count": 36,
   "metadata": {
    "ExecuteTime": {
     "end_time": "2020-03-03T13:47:22.069038Z",
     "start_time": "2020-03-03T13:47:22.032978Z"
    },
    "scrolled": true
   },
   "outputs": [
    {
     "data": {
      "text/html": [
       "<div>\n",
       "<style scoped>\n",
       "    .dataframe tbody tr th:only-of-type {\n",
       "        vertical-align: middle;\n",
       "    }\n",
       "\n",
       "    .dataframe tbody tr th {\n",
       "        vertical-align: top;\n",
       "    }\n",
       "\n",
       "    .dataframe thead th {\n",
       "        text-align: right;\n",
       "    }\n",
       "</style>\n",
       "<table border=\"1\" class=\"dataframe\">\n",
       "  <thead>\n",
       "    <tr style=\"text-align: right;\">\n",
       "      <th></th>\n",
       "      <th>text</th>\n",
       "      <th>label</th>\n",
       "    </tr>\n",
       "  </thead>\n",
       "  <tbody>\n",
       "    <tr>\n",
       "      <th>NYT_ENG_19990801.0137</th>\n",
       "      <td>COMMENTARY: VOODOO REDUX. Here we go again. Back in 1980, Ronald Reagan assured one and all that he could cut taxes sharply, increase defense spending substantially and balance the federal budget. If it had been a television commercial instead of real life we would have seen a close-up of Reagan happily saying, ``I can do that,'' followed by a shot of him, perplexed, asking, ``How am I gonna do that?'' George Herbert Walker Bush famously derided Reagan's supply-side fantasies as ``voodoo economics.'' And the veteran Washington Post reporter Lou Cannon, in his book ``President Reagan: The Role of a Lifetime,'' described the reaction of James Baker, Reagan's own chief-of-staff, to the transformation of economic fantasy into national policy. He wrote: ``Though not particularly well-versed in economics, Baker suspected that there was something screwy about the idea that massive tax cuts would increase government revenues. Later, he would privately express regrets that the deficits had `gotten away' from the administration and wished he had paid more attention to the consequences of the tax cuts.''</td>\n",
       "      <td>unrelated</td>\n",
       "    </tr>\n",
       "    <tr>\n",
       "      <th>NYT_ENG_19980119.0621</th>\n",
       "      <td>ISLAND LIVING AT BARGAIN PRICES. Show me a better deal than a 600-square-foot cottage next to San Francisco Bay for $400, including a three-car garage, garden, private security and quick access to the Financial District, and I'll pay the rent for a month. Four hundred a month is what Wendy Linka, the $65,858-a-year director of marketing for Treasure Island, pays for the caretaker's cottage behind Admiral Nimitz's old mansion on Yerba Buena Island. Now that the Navy is gone, the mayor's office is the landlord. The rent, figured by the city of San Francisco at $1 per square foot, is $600. Linka pays $200 less because of duties as the mansion's caretaker. In October I wrote that Linka lived in the cottage rent-free. Sorry, I was a few bucks and a few days off. Documents show that the city began deducting the $400 from her paycheck on Oct. 1, 1997, with additional funds deducted for rent back to May 1, when her lease began.</td>\n",
       "      <td>unrelated</td>\n",
       "    </tr>\n",
       "    <tr>\n",
       "      <th>APW_ENG_20061117.1112</th>\n",
       "      <td>One child abused every hour in Zimbabwe, child protection groups report. New data shows a child is abused every hour in Zimbabwe and more than half the reported cases involve sexual abuse, a coalition of child protection groups said Friday. \"Are Zimbabweans really horrified by these statistics?\" said Childline director Audrey Gumbo. \"Are we really being jolted into action? Because this is what is needed -- action,\" including the strict enforcement of existing child protection laws. The Child Protection Working Group said sexual abuse was worsened by beliefs that sexually transmitted diseases, including HIV/AIDS, could be cured by having sex with a virgin. \"This is the most repulsive of myths,\" said Betty Makoni, director of Girl Child Network, a member of the Child Protection Working Group. Data released ahead of the World Day for the Prevention of Child Abuse on Sunday showed 8,600 cases of abuse -- or 24 a day, or one an hour -- were reported last year across this country of nearly 12 million people. Other cases went unreported. There was no indication trends had changed.</td>\n",
       "      <td>unrelated</td>\n",
       "    </tr>\n",
       "    <tr>\n",
       "      <th>AFP_ENG_19970131.0060</th>\n",
       "      <td>South Korean authorities arrest Hanbo chief. Chung Tae-Soo, head of South Korea's debt-stricken Hanbo Group, was arrested Friday on charges of issuing unpaid promissory notes, a television report said. Following overnight questioning at the Prosecutor General's Office, Chung was charged with fraud for allegedly issuing promissory notes worth millions of dollars while fully aware they could not be honoured. The Hanbo chief was also alleged to have embezzled some 50 million dollars in illegal loans from a mutual trust fund of which he was the largest shareholder. The Hanbo Group's four major subsidiaries -- Hanbo Energy, Sang-A Pharmaceutical Co., Hanbo Steel and General Construction Co. and Hanbo Corp. -- have sought bankruptcy protection. The Hanbo debt troubles have triggered allegations that the group used high-level connections to obtain loans without sufficient collateral.</td>\n",
       "      <td>unrelated</td>\n",
       "    </tr>\n",
       "    <tr>\n",
       "      <th>APW_ENG_20070804.0559</th>\n",
       "      <td>Finnish Rally Results. Results Saturday from the Finnish Rally world championship event after the second leg, 20 of 23 special stages, 319.6 kilometers: 1. Marcus Gronholm, Finland, Ford, 2 hours, 36 minutes, 45.2 seconds. 2. Mikko Hirvonen, Finland, Ford, 20.4 seconds behind. 3. Sebastien Loeb, France, Citroen, 1:00.5. 4. Chris Atkinson, Australia, Subaru, 2:41.3.</td>\n",
       "      <td>unrelated</td>\n",
       "    </tr>\n",
       "    <tr>\n",
       "      <th>...</th>\n",
       "      <td>...</td>\n",
       "      <td>...</td>\n",
       "    </tr>\n",
       "    <tr>\n",
       "      <th>APW_ENG_20100920.0398</th>\n",
       "      <td>Fashion greats remember McQueen in London service. Fashionistas celebrated the life and legacy of Alexander McQueen in a solemn ceremony at St. Paul's Cathedral on Monday, seven months after his suicide shocked the designing world. The service for McQueen briefly brought London Fashion Week to a halt as top designers, models and editors came to pay their respects to the enfant terrible of British fashion, who was 40 when he died in early February. He had a history of depression and was said to be devastated by the recent loss of his mother. His suicide has deprived the British fashion world of its biggest and most controversial star. The service was attended by many of the models and actresses who loved McQueen's work, including Naomi Campbell, Kate Moss, Sarah Jessica Parker, Jade Parfitt and others, including designer Stella McCartney. Anna Wintour, editor-in-chief of the American edition of Vogue magazine, was the first of McQueen's admirers to speak. Wearing an elegant black-and-gold outfit, she praised his \"exceptional legacy of brilliant inspiration.\"</td>\n",
       "      <td>unrelated</td>\n",
       "    </tr>\n",
       "    <tr>\n",
       "      <th>AFP_ENG_19941115.0022</th>\n",
       "      <td>Tamils urge reciprocal gesture to Tiger truce. Tamil politicians urged the government Tuesday to formally respond to a unilateral ceasefire declared over the weekend by separatist Tamil Tiger guerrillas. The Liberation Tigers of Tamil Eelam (LTTE) called the one-week truce to mark Saturday's inauguration of new President Chandrika Kumaratunga, who had initiated talks with the rebels to end ethnic bloodletting. \"The LTTE by its ceasefire has demonstrated that it wants the peace process to continue. What is going to be the government's response?\" Tamil legislator Dharmalingam Sidhathan said. Sidhathan leads the anti-LTTE Democratic People's Liberation Front (DPLF). President Kumaratunga suspended talks with Tigers after the rebels were implicated in killing 57 people at an opposition rally last month, including opposition leader, Gamini Dissanayake.</td>\n",
       "      <td>unrelated</td>\n",
       "    </tr>\n",
       "    <tr>\n",
       "      <th>NYT_ENG_19990517.0460</th>\n",
       "      <td>GENERAL DYNAMICS TO BUY GULFSTREAM, MAKER OF JET PLANES. The General Dynamics Corp., a military contractor that specializes in making nuclear submarines, surface ships and tanks, announced Monday that it would acquire the Gulfstream Aerospace Corp., a maker of corporate jets, for $5.3 billion in a deal that returns General Dynamics to a business it once shed. The Gulfstream acquisition, a 1-for-1 stock swap that would give General Dynamics shares to Gulfstream shareholders, would add a new and potentially cyclical business to General Dynamics' product line, which is heavily laden with armaments that are steady cash generators. It would also move General Dynamics back to the aerospace industry, a business it stepped away from in the early 1990s when it sold Cessna Aircraft, a maker of business jets, to Textron and when it sold its F-16 fighter jet operations to Lockheed Martin as well as its missile division to Hughes Electronics. The deal for Gulfstream elicited mix reaction on Wall Street. General Dynamics tumbled nearly 10 percent, or $6.1875, to $65.25, after having traded as low as $63.25 by midday. Still, while many on Wall Street were skeptical about the deal, others said Gulfstream would add a strong cash generator to the company, even if it took General Dynamics in a new direction. ``The deal makes a lot of sense from a financial perspective,'' said Pierre Chao, an analyst with Morgan Stanley Dean Witter. ``General Dynamics is adding a company with a solid background and great cash flow, which will allow them to fuel further defense acquisitions.'' He said the market was forgetting that General Dynamics used to be in the aerospace business.</td>\n",
       "      <td>unrelated</td>\n",
       "    </tr>\n",
       "    <tr>\n",
       "      <th>AFP_ENG_20090729.0244</th>\n",
       "      <td>Croatia, Slovenia PMs to meet over border row. Croatia said Wednesday that its new prime minister will meet this week with her counterpart from Slovenia, which is blocking Zagreb's EU accession over a long- running border row. Jadranka Kosor, who became Croatia's first woman premier earlier this month, was to hold talks Friday with Slovenia's Borut Pahor in Trakoscan, some 70 kilometres (43 miles) north of Zagreb, said a government statement. \"With this meeting, a bilateral dialogue on the level of the premiers which started in February will continue,\" it said referring to a meeting in Slovenia between Pahor and Kosor's predecessor Ivo Sanader. Slovenia has been blocking Croatia's talks to join the European Union since December over a border dispute dating back to 1991, when both countries proclaimed independence from the former Yugoslavia. Kosor said Wednesday she was \"very optimisic\" of resolving the issue, which concerns a small slice of land and sea crucial for Slovenia's access to the Adriatic Sea and international shipping waters.</td>\n",
       "      <td>unrelated</td>\n",
       "    </tr>\n",
       "    <tr>\n",
       "      <th>NYT_ENG_19980423.0404</th>\n",
       "      <td>Bad report for NASA's pet project. ATLANTA ---- The international space station, which NASA claimed a year ago was ``on time and under budget,'' is neither, a blue-ribbon task force warned Thursday in a stinging analysis that calls the current schedule and cost estimates unrealistic and unachievable. The analysis, which NASA requested last year, said construction of the space station, which was due to begin in June, will ``likely'' take one to three years longer than NASA envisioned and cost as much as $24.7 billion, or 30 percent more than NASA assured Congress it would take to complete the project. The task force blamed the grim new reality check on prime contractor Boeing's cost overruns, already approaching $1 billion, construction delays by Russian and U.S. contractors, and NASA's failure to properly manage ``the most complex and technically challenging achievement in human spaceflight since landing on the moon.'' Although the space station has been redesigned and downsized six times since being proposed by President Ronald Reagan in 1982, NASA may have to think about shrinking it again, task force Chairman Jay Chabrow said. ``The present program should be revised so that it is achievable within the financial resources available,'' Chabrow told NASA Administrator Daniel Goldin. ``If necessary, program content should be eliminated or deferred to fit within funding constraints.''</td>\n",
       "      <td>unrelated</td>\n",
       "    </tr>\n",
       "  </tbody>\n",
       "</table>\n",
       "<p>431 rows × 2 columns</p>\n",
       "</div>"
      ],
      "text/plain": [
       "                                                                                                                                                                                                                                                                                                                                                                                                                                                                                                                                                                                                                                                                                                                                                                                                                                                                                                                                                                                                                                                                                                                                                                                                                                                                                                                                                                                                                                                                                                                                                                                                                                                                                                                                                               text  \\\n",
       "NYT_ENG_19990801.0137  COMMENTARY: VOODOO REDUX. Here we go again. Back in 1980, Ronald Reagan assured one and all that he could cut taxes sharply, increase defense spending substantially and balance the federal budget. If it had been a television commercial instead of real life we would have seen a close-up of Reagan happily saying, ``I can do that,'' followed by a shot of him, perplexed, asking, ``How am I gonna do that?'' George Herbert Walker Bush famously derided Reagan's supply-side fantasies as ``voodoo economics.'' And the veteran Washington Post reporter Lou Cannon, in his book ``President Reagan: The Role of a Lifetime,'' described the reaction of James Baker, Reagan's own chief-of-staff, to the transformation of economic fantasy into national policy. He wrote: ``Though not particularly well-versed in economics, Baker suspected that there was something screwy about the idea that massive tax cuts would increase government revenues. Later, he would privately express regrets that the deficits had `gotten away' from the administration and wished he had paid more attention to the consequences of the tax cuts.''                                                                                                                                                                                                                                                                                                                                                                                                                                                                                                                                                                                         \n",
       "NYT_ENG_19980119.0621  ISLAND LIVING AT BARGAIN PRICES. Show me a better deal than a 600-square-foot cottage next to San Francisco Bay for $400, including a three-car garage, garden, private security and quick access to the Financial District, and I'll pay the rent for a month. Four hundred a month is what Wendy Linka, the $65,858-a-year director of marketing for Treasure Island, pays for the caretaker's cottage behind Admiral Nimitz's old mansion on Yerba Buena Island. Now that the Navy is gone, the mayor's office is the landlord. The rent, figured by the city of San Francisco at $1 per square foot, is $600. Linka pays $200 less because of duties as the mansion's caretaker. In October I wrote that Linka lived in the cottage rent-free. Sorry, I was a few bucks and a few days off. Documents show that the city began deducting the $400 from her paycheck on Oct. 1, 1997, with additional funds deducted for rent back to May 1, when her lease began.                                                                                                                                                                                                                                                                                                                                                                                                                                                                                                                                                                                                                                                                                                                                                                          \n",
       "APW_ENG_20061117.1112  One child abused every hour in Zimbabwe, child protection groups report. New data shows a child is abused every hour in Zimbabwe and more than half the reported cases involve sexual abuse, a coalition of child protection groups said Friday. \"Are Zimbabweans really horrified by these statistics?\" said Childline director Audrey Gumbo. \"Are we really being jolted into action? Because this is what is needed -- action,\" including the strict enforcement of existing child protection laws. The Child Protection Working Group said sexual abuse was worsened by beliefs that sexually transmitted diseases, including HIV/AIDS, could be cured by having sex with a virgin. \"This is the most repulsive of myths,\" said Betty Makoni, director of Girl Child Network, a member of the Child Protection Working Group. Data released ahead of the World Day for the Prevention of Child Abuse on Sunday showed 8,600 cases of abuse -- or 24 a day, or one an hour -- were reported last year across this country of nearly 12 million people. Other cases went unreported. There was no indication trends had changed.                                                                                                                                                                                                                                                                                                                                                                                                                                                                                                                                                                                                             \n",
       "AFP_ENG_19970131.0060  South Korean authorities arrest Hanbo chief. Chung Tae-Soo, head of South Korea's debt-stricken Hanbo Group, was arrested Friday on charges of issuing unpaid promissory notes, a television report said. Following overnight questioning at the Prosecutor General's Office, Chung was charged with fraud for allegedly issuing promissory notes worth millions of dollars while fully aware they could not be honoured. The Hanbo chief was also alleged to have embezzled some 50 million dollars in illegal loans from a mutual trust fund of which he was the largest shareholder. The Hanbo Group's four major subsidiaries -- Hanbo Energy, Sang-A Pharmaceutical Co., Hanbo Steel and General Construction Co. and Hanbo Corp. -- have sought bankruptcy protection. The Hanbo debt troubles have triggered allegations that the group used high-level connections to obtain loans without sufficient collateral.                                                                                                                                                                                                                                                                                                                                                                                                                                                                                                                                                                                                                                                                                                                                                                                                                      \n",
       "APW_ENG_20070804.0559  Finnish Rally Results. Results Saturday from the Finnish Rally world championship event after the second leg, 20 of 23 special stages, 319.6 kilometers: 1. Marcus Gronholm, Finland, Ford, 2 hours, 36 minutes, 45.2 seconds. 2. Mikko Hirvonen, Finland, Ford, 20.4 seconds behind. 3. Sebastien Loeb, France, Citroen, 1:00.5. 4. Chris Atkinson, Australia, Subaru, 2:41.3.                                                                                                                                                                                                                                                                                                                                                                                                                                                                                                                                                                                                                                                                                                                                                                                                                                                                                                                                                                                                                                                                                                                                                                                                                                                                                                                                                                \n",
       "...                                                                                                                                                                                                                                                                                                                                                                                                ...                                                                                                                                                                                                                                                                                                                                                                                                                                                                                                                                                                                                                                                                                                                                                                                                                                                                                                                                                                                                                                                                                                                                                                                                                                                                                                                                                                \n",
       "APW_ENG_20100920.0398  Fashion greats remember McQueen in London service. Fashionistas celebrated the life and legacy of Alexander McQueen in a solemn ceremony at St. Paul's Cathedral on Monday, seven months after his suicide shocked the designing world. The service for McQueen briefly brought London Fashion Week to a halt as top designers, models and editors came to pay their respects to the enfant terrible of British fashion, who was 40 when he died in early February. He had a history of depression and was said to be devastated by the recent loss of his mother. His suicide has deprived the British fashion world of its biggest and most controversial star. The service was attended by many of the models and actresses who loved McQueen's work, including Naomi Campbell, Kate Moss, Sarah Jessica Parker, Jade Parfitt and others, including designer Stella McCartney. Anna Wintour, editor-in-chief of the American edition of Vogue magazine, was the first of McQueen's admirers to speak. Wearing an elegant black-and-gold outfit, she praised his \"exceptional legacy of brilliant inspiration.\"                                                                                                                                                                                                                                                                                                                                                                                                                                                                                                                                                                                                                              \n",
       "AFP_ENG_19941115.0022  Tamils urge reciprocal gesture to Tiger truce. Tamil politicians urged the government Tuesday to formally respond to a unilateral ceasefire declared over the weekend by separatist Tamil Tiger guerrillas. The Liberation Tigers of Tamil Eelam (LTTE) called the one-week truce to mark Saturday's inauguration of new President Chandrika Kumaratunga, who had initiated talks with the rebels to end ethnic bloodletting. \"The LTTE by its ceasefire has demonstrated that it wants the peace process to continue. What is going to be the government's response?\" Tamil legislator Dharmalingam Sidhathan said. Sidhathan leads the anti-LTTE Democratic People's Liberation Front (DPLF). President Kumaratunga suspended talks with Tigers after the rebels were implicated in killing 57 people at an opposition rally last month, including opposition leader, Gamini Dissanayake.                                                                                                                                                                                                                                                                                                                                                                                                                                                                                                                                                                                                                                                                                                                                                                                                                                                    \n",
       "NYT_ENG_19990517.0460  GENERAL DYNAMICS TO BUY GULFSTREAM, MAKER OF JET PLANES. The General Dynamics Corp., a military contractor that specializes in making nuclear submarines, surface ships and tanks, announced Monday that it would acquire the Gulfstream Aerospace Corp., a maker of corporate jets, for $5.3 billion in a deal that returns General Dynamics to a business it once shed. The Gulfstream acquisition, a 1-for-1 stock swap that would give General Dynamics shares to Gulfstream shareholders, would add a new and potentially cyclical business to General Dynamics' product line, which is heavily laden with armaments that are steady cash generators. It would also move General Dynamics back to the aerospace industry, a business it stepped away from in the early 1990s when it sold Cessna Aircraft, a maker of business jets, to Textron and when it sold its F-16 fighter jet operations to Lockheed Martin as well as its missile division to Hughes Electronics. The deal for Gulfstream elicited mix reaction on Wall Street. General Dynamics tumbled nearly 10 percent, or $6.1875, to $65.25, after having traded as low as $63.25 by midday. Still, while many on Wall Street were skeptical about the deal, others said Gulfstream would add a strong cash generator to the company, even if it took General Dynamics in a new direction. ``The deal makes a lot of sense from a financial perspective,'' said Pierre Chao, an analyst with Morgan Stanley Dean Witter. ``General Dynamics is adding a company with a solid background and great cash flow, which will allow them to fuel further defense acquisitions.'' He said the market was forgetting that General Dynamics used to be in the aerospace business.   \n",
       "AFP_ENG_20090729.0244  Croatia, Slovenia PMs to meet over border row. Croatia said Wednesday that its new prime minister will meet this week with her counterpart from Slovenia, which is blocking Zagreb's EU accession over a long- running border row. Jadranka Kosor, who became Croatia's first woman premier earlier this month, was to hold talks Friday with Slovenia's Borut Pahor in Trakoscan, some 70 kilometres (43 miles) north of Zagreb, said a government statement. \"With this meeting, a bilateral dialogue on the level of the premiers which started in February will continue,\" it said referring to a meeting in Slovenia between Pahor and Kosor's predecessor Ivo Sanader. Slovenia has been blocking Croatia's talks to join the European Union since December over a border dispute dating back to 1991, when both countries proclaimed independence from the former Yugoslavia. Kosor said Wednesday she was \"very optimisic\" of resolving the issue, which concerns a small slice of land and sea crucial for Slovenia's access to the Adriatic Sea and international shipping waters.                                                                                                                                                                                                                                                                                                                                                                                                                                                                                                                                                                                                                                                   \n",
       "NYT_ENG_19980423.0404  Bad report for NASA's pet project. ATLANTA ---- The international space station, which NASA claimed a year ago was ``on time and under budget,'' is neither, a blue-ribbon task force warned Thursday in a stinging analysis that calls the current schedule and cost estimates unrealistic and unachievable. The analysis, which NASA requested last year, said construction of the space station, which was due to begin in June, will ``likely'' take one to three years longer than NASA envisioned and cost as much as $24.7 billion, or 30 percent more than NASA assured Congress it would take to complete the project. The task force blamed the grim new reality check on prime contractor Boeing's cost overruns, already approaching $1 billion, construction delays by Russian and U.S. contractors, and NASA's failure to properly manage ``the most complex and technically challenging achievement in human spaceflight since landing on the moon.'' Although the space station has been redesigned and downsized six times since being proposed by President Ronald Reagan in 1982, NASA may have to think about shrinking it again, task force Chairman Jay Chabrow said. ``The present program should be revised so that it is achievable within the financial resources available,'' Chabrow told NASA Administrator Daniel Goldin. ``If necessary, program content should be eliminated or deferred to fit within funding constraints.''                                                                                                                                                                                                                                                                                  \n",
       "\n",
       "                           label  \n",
       "NYT_ENG_19990801.0137  unrelated  \n",
       "NYT_ENG_19980119.0621  unrelated  \n",
       "APW_ENG_20061117.1112  unrelated  \n",
       "AFP_ENG_19970131.0060  unrelated  \n",
       "APW_ENG_20070804.0559  unrelated  \n",
       "...                          ...  \n",
       "APW_ENG_20100920.0398  unrelated  \n",
       "AFP_ENG_19941115.0022  unrelated  \n",
       "NYT_ENG_19990517.0460  unrelated  \n",
       "AFP_ENG_20090729.0244  unrelated  \n",
       "NYT_ENG_19980423.0404  unrelated  \n",
       "\n",
       "[431 rows x 2 columns]"
      ]
     },
     "execution_count": 36,
     "metadata": {},
     "output_type": "execute_result"
    }
   ],
   "source": [
    "balance_df['label']= 'unrelated'\n",
    "balance_df"
   ]
  },
  {
   "cell_type": "markdown",
   "metadata": {},
   "source": [
    "## concat related and unrelated"
   ]
  },
  {
   "cell_type": "code",
   "execution_count": 37,
   "metadata": {
    "ExecuteTime": {
     "end_time": "2020-03-03T13:47:39.367057Z",
     "start_time": "2020-03-03T13:47:39.331546Z"
    }
   },
   "outputs": [],
   "source": [
    "balanced_labeled_df = pd.concat([filtered_df, balance_df])"
   ]
  },
  {
   "cell_type": "code",
   "execution_count": 38,
   "metadata": {
    "ExecuteTime": {
     "end_time": "2020-03-03T13:47:40.482196Z",
     "start_time": "2020-03-03T13:47:40.452431Z"
    },
    "scrolled": true
   },
   "outputs": [
    {
     "data": {
      "text/html": [
       "<div>\n",
       "<style scoped>\n",
       "    .dataframe tbody tr th:only-of-type {\n",
       "        vertical-align: middle;\n",
       "    }\n",
       "\n",
       "    .dataframe tbody tr th {\n",
       "        vertical-align: top;\n",
       "    }\n",
       "\n",
       "    .dataframe thead th {\n",
       "        text-align: right;\n",
       "    }\n",
       "</style>\n",
       "<table border=\"1\" class=\"dataframe\">\n",
       "  <thead>\n",
       "    <tr style=\"text-align: right;\">\n",
       "      <th></th>\n",
       "      <th>text</th>\n",
       "      <th>label</th>\n",
       "    </tr>\n",
       "  </thead>\n",
       "  <tbody>\n",
       "    <tr>\n",
       "      <th>0</th>\n",
       "      <td>(picture) Clinton announces housing initiative. President Bill Clinton announced Saturday that he was asking a task force for ideas on how to expand home ownership to include more poor and minority buyers. In an address to the National Association of Realtors, the president said that home ownership had been sliding since 1980. \"We have to turn this around ... and I am convinced that we can do it,\" he said, saying his goal was to bring home ownership to \"an all time high in the US before the century is over.\" To accomplish this, Clinton said he had asked Henry Cisneros, the secretary of housing and urban development, to create a task force that drew on such diverse groups as real estate agents, mortgage bankers, urban development experts and anti-poverty workers. They would draw up a strategy and report to the White House within six months, Clinton said.</td>\n",
       "      <td>related</td>\n",
       "    </tr>\n",
       "    <tr>\n",
       "      <th>1</th>\n",
       "      <td>Sanctions a last resort against exploitation of Asia's children. Human rights, including those of children and workers, should be defended by trade and aid sanctions only as a last resort and never applied unilaterally, a child rights' activist said here on Thursday. There is a role for sanctions, said Vitit Muntarbhorn, executive director of Child Rights ASIANET and former United Nations special rapporteur on the sale of children, citing their contributions to ending apartheid in South Africa. \"There is one country in the region for which sanctions are appropriate now. It is Burma. The junta is violating civil, economic, political, social and human rights, and using forced porterage and child labor near the border,\" Vitit said. In most cases, however, exploitation of child labor must be considered against a country's history of human rights, and its efforts to re- educate former child laborers, he said at the fourth annual Child Workers in Asia (CWA) Regional Seminar on Child Labor here. \"The best interests of the child must come first. In some instances the threat of trade sanctions has led only to children losing their income or being pushed into the informal sectors (of employment) where they are even more vulnerable,\" he added.</td>\n",
       "      <td>related</td>\n",
       "    </tr>\n",
       "    <tr>\n",
       "      <th>2</th>\n",
       "      <td>China turns tables, details \"terrible plight\" of US children. China turned the tables Thursday on US critics of its treatment of orphans, issuing a lengthy article detailing the \"terrible plight\" of numerous children facing poverty and violence in the United States. The report, signed by Ren Yenshi and to be published in the party mouthpiece People's Daily Friday, was released Thursday by Xinhua, accusing US human rights organisations of resorting to the \"mean trick\" of fabricating allegations about other countries while ignoring problems at home. \"It is in the world's only superpower that the social tragedies of ill-treating and cruelly injuring children, as well as of hurting them physically and psychologically in various ways takes place every day,\" the article said. \"The US has a very poor record on social protection of children,\" Xinhua said, mimicking international human rights' organisations frequent appeals to China in urging the US government to \"take measures to improve its record.\" The publication of the article comes some six weeks after New York- based Human Rights Watch/Asia released a 350-page report accusing workers in China's state orphanages of routinely neglecting children and leaving many to starve to death in a policy that received tacit state sanction.</td>\n",
       "      <td>related</td>\n",
       "    </tr>\n",
       "    <tr>\n",
       "      <th>3</th>\n",
       "      <td>China turns tables, details \"terrible plight\" of US children. China turned the tables Thursday on US critics of its treatment of orphans, issuing a lengthy article detailing the \"terrible plight\" of numerous children facing poverty and violence in the United States. The report, signed by Ren Yenshi and to be published on Friday in the party mouthpiece the People's Daily, was released Thursday by Xinhua, accusing US human rights organisations of resorting the \"mean trick\" of fabricating allegations about other countries while ignoring problems at home. \"It is in the world's only superpower that the social tragedies of ill-treating and cruelly injuring children, as well as of hurting them physically and psychologically in various ways takes place every day,\" the article said. \"The US has a very poor record on social protection of children,\" Xinhua said, mimicking international human rights' organisations frequent appeals to China in urging the US government to \"take measures to improve its record.\" The publication of the article comes some six weeks after New York- based Human Rights Watch/Asia released a 350-page report accusing workers in China's state orphanages of routinely neglecting children and leaving many to starve to death in a policy that received tacit state sanction.</td>\n",
       "      <td>related</td>\n",
       "    </tr>\n",
       "    <tr>\n",
       "      <th>4</th>\n",
       "      <td>Aid agency targets women in Afghanistan's poorest society by Marc Lavine. Some of Afghanistan's poorest women are for the first time being given a chance to control their family lives by aid agency workers in this traditionally male-dominated society. The British group Oxfam has defied Afghan custom, which keeps females firmly in the background of family management, by launching a distribution drive which targets the women of Kabul's poorest families. Women representing about 8,000 families in two of the city's most war- devastated districts have been issued blankets, children's clothes and heavy plastic sheeting, to be used for insulation or covering doors and windows left gaping by factional fighting. For most of the women who turned up to receive the aid, wearing the traditional burkas -- Islamic head-to-toe body covers -- it was the first time they had acquired property, and domestic rights, since their marriages. \"This makes us feel that our value is at last being appreciated and that we actually matter and are a crucial part of the family unit,\" Soraya, a 25-year-old widow and mother of six told AFP.</td>\n",
       "      <td>related</td>\n",
       "    </tr>\n",
       "    <tr>\n",
       "      <th>...</th>\n",
       "      <td>...</td>\n",
       "      <td>...</td>\n",
       "    </tr>\n",
       "    <tr>\n",
       "      <th>APW_ENG_20100920.0398</th>\n",
       "      <td>Fashion greats remember McQueen in London service. Fashionistas celebrated the life and legacy of Alexander McQueen in a solemn ceremony at St. Paul's Cathedral on Monday, seven months after his suicide shocked the designing world. The service for McQueen briefly brought London Fashion Week to a halt as top designers, models and editors came to pay their respects to the enfant terrible of British fashion, who was 40 when he died in early February. He had a history of depression and was said to be devastated by the recent loss of his mother. His suicide has deprived the British fashion world of its biggest and most controversial star. The service was attended by many of the models and actresses who loved McQueen's work, including Naomi Campbell, Kate Moss, Sarah Jessica Parker, Jade Parfitt and others, including designer Stella McCartney. Anna Wintour, editor-in-chief of the American edition of Vogue magazine, was the first of McQueen's admirers to speak. Wearing an elegant black-and-gold outfit, she praised his \"exceptional legacy of brilliant inspiration.\"</td>\n",
       "      <td>unrelated</td>\n",
       "    </tr>\n",
       "    <tr>\n",
       "      <th>AFP_ENG_19941115.0022</th>\n",
       "      <td>Tamils urge reciprocal gesture to Tiger truce. Tamil politicians urged the government Tuesday to formally respond to a unilateral ceasefire declared over the weekend by separatist Tamil Tiger guerrillas. The Liberation Tigers of Tamil Eelam (LTTE) called the one-week truce to mark Saturday's inauguration of new President Chandrika Kumaratunga, who had initiated talks with the rebels to end ethnic bloodletting. \"The LTTE by its ceasefire has demonstrated that it wants the peace process to continue. What is going to be the government's response?\" Tamil legislator Dharmalingam Sidhathan said. Sidhathan leads the anti-LTTE Democratic People's Liberation Front (DPLF). President Kumaratunga suspended talks with Tigers after the rebels were implicated in killing 57 people at an opposition rally last month, including opposition leader, Gamini Dissanayake.</td>\n",
       "      <td>unrelated</td>\n",
       "    </tr>\n",
       "    <tr>\n",
       "      <th>NYT_ENG_19990517.0460</th>\n",
       "      <td>GENERAL DYNAMICS TO BUY GULFSTREAM, MAKER OF JET PLANES. The General Dynamics Corp., a military contractor that specializes in making nuclear submarines, surface ships and tanks, announced Monday that it would acquire the Gulfstream Aerospace Corp., a maker of corporate jets, for $5.3 billion in a deal that returns General Dynamics to a business it once shed. The Gulfstream acquisition, a 1-for-1 stock swap that would give General Dynamics shares to Gulfstream shareholders, would add a new and potentially cyclical business to General Dynamics' product line, which is heavily laden with armaments that are steady cash generators. It would also move General Dynamics back to the aerospace industry, a business it stepped away from in the early 1990s when it sold Cessna Aircraft, a maker of business jets, to Textron and when it sold its F-16 fighter jet operations to Lockheed Martin as well as its missile division to Hughes Electronics. The deal for Gulfstream elicited mix reaction on Wall Street. General Dynamics tumbled nearly 10 percent, or $6.1875, to $65.25, after having traded as low as $63.25 by midday. Still, while many on Wall Street were skeptical about the deal, others said Gulfstream would add a strong cash generator to the company, even if it took General Dynamics in a new direction. ``The deal makes a lot of sense from a financial perspective,'' said Pierre Chao, an analyst with Morgan Stanley Dean Witter. ``General Dynamics is adding a company with a solid background and great cash flow, which will allow them to fuel further defense acquisitions.'' He said the market was forgetting that General Dynamics used to be in the aerospace business.</td>\n",
       "      <td>unrelated</td>\n",
       "    </tr>\n",
       "    <tr>\n",
       "      <th>AFP_ENG_20090729.0244</th>\n",
       "      <td>Croatia, Slovenia PMs to meet over border row. Croatia said Wednesday that its new prime minister will meet this week with her counterpart from Slovenia, which is blocking Zagreb's EU accession over a long- running border row. Jadranka Kosor, who became Croatia's first woman premier earlier this month, was to hold talks Friday with Slovenia's Borut Pahor in Trakoscan, some 70 kilometres (43 miles) north of Zagreb, said a government statement. \"With this meeting, a bilateral dialogue on the level of the premiers which started in February will continue,\" it said referring to a meeting in Slovenia between Pahor and Kosor's predecessor Ivo Sanader. Slovenia has been blocking Croatia's talks to join the European Union since December over a border dispute dating back to 1991, when both countries proclaimed independence from the former Yugoslavia. Kosor said Wednesday she was \"very optimisic\" of resolving the issue, which concerns a small slice of land and sea crucial for Slovenia's access to the Adriatic Sea and international shipping waters.</td>\n",
       "      <td>unrelated</td>\n",
       "    </tr>\n",
       "    <tr>\n",
       "      <th>NYT_ENG_19980423.0404</th>\n",
       "      <td>Bad report for NASA's pet project. ATLANTA ---- The international space station, which NASA claimed a year ago was ``on time and under budget,'' is neither, a blue-ribbon task force warned Thursday in a stinging analysis that calls the current schedule and cost estimates unrealistic and unachievable. The analysis, which NASA requested last year, said construction of the space station, which was due to begin in June, will ``likely'' take one to three years longer than NASA envisioned and cost as much as $24.7 billion, or 30 percent more than NASA assured Congress it would take to complete the project. The task force blamed the grim new reality check on prime contractor Boeing's cost overruns, already approaching $1 billion, construction delays by Russian and U.S. contractors, and NASA's failure to properly manage ``the most complex and technically challenging achievement in human spaceflight since landing on the moon.'' Although the space station has been redesigned and downsized six times since being proposed by President Ronald Reagan in 1982, NASA may have to think about shrinking it again, task force Chairman Jay Chabrow said. ``The present program should be revised so that it is achievable within the financial resources available,'' Chabrow told NASA Administrator Daniel Goldin. ``If necessary, program content should be eliminated or deferred to fit within funding constraints.''</td>\n",
       "      <td>unrelated</td>\n",
       "    </tr>\n",
       "  </tbody>\n",
       "</table>\n",
       "<p>866 rows × 2 columns</p>\n",
       "</div>"
      ],
      "text/plain": [
       "                                                                                                                                                                                                                                                                                                                                                                                                                                                                                                                                                                                                                                                                                                                                                                                                                                                                                                                                                                                                                                                                                                                                                                                                                                                                                                                                                                                                                                                                                                                                                                                                                                                                                                                                                               text  \\\n",
       "0                      (picture) Clinton announces housing initiative. President Bill Clinton announced Saturday that he was asking a task force for ideas on how to expand home ownership to include more poor and minority buyers. In an address to the National Association of Realtors, the president said that home ownership had been sliding since 1980. \"We have to turn this around ... and I am convinced that we can do it,\" he said, saying his goal was to bring home ownership to \"an all time high in the US before the century is over.\" To accomplish this, Clinton said he had asked Henry Cisneros, the secretary of housing and urban development, to create a task force that drew on such diverse groups as real estate agents, mortgage bankers, urban development experts and anti-poverty workers. They would draw up a strategy and report to the White House within six months, Clinton said.                                                                                                                                                                                                                                                                                                                                                                                                                                                                                                                                                                                                                                                                                                                                                                                                                                              \n",
       "1                      Sanctions a last resort against exploitation of Asia's children. Human rights, including those of children and workers, should be defended by trade and aid sanctions only as a last resort and never applied unilaterally, a child rights' activist said here on Thursday. There is a role for sanctions, said Vitit Muntarbhorn, executive director of Child Rights ASIANET and former United Nations special rapporteur on the sale of children, citing their contributions to ending apartheid in South Africa. \"There is one country in the region for which sanctions are appropriate now. It is Burma. The junta is violating civil, economic, political, social and human rights, and using forced porterage and child labor near the border,\" Vitit said. In most cases, however, exploitation of child labor must be considered against a country's history of human rights, and its efforts to re- educate former child laborers, he said at the fourth annual Child Workers in Asia (CWA) Regional Seminar on Child Labor here. \"The best interests of the child must come first. In some instances the threat of trade sanctions has led only to children losing their income or being pushed into the informal sectors (of employment) where they are even more vulnerable,\" he added.                                                                                                                                                                                                                                                                                                                                                                                                                                           \n",
       "2                      China turns tables, details \"terrible plight\" of US children. China turned the tables Thursday on US critics of its treatment of orphans, issuing a lengthy article detailing the \"terrible plight\" of numerous children facing poverty and violence in the United States. The report, signed by Ren Yenshi and to be published in the party mouthpiece People's Daily Friday, was released Thursday by Xinhua, accusing US human rights organisations of resorting to the \"mean trick\" of fabricating allegations about other countries while ignoring problems at home. \"It is in the world's only superpower that the social tragedies of ill-treating and cruelly injuring children, as well as of hurting them physically and psychologically in various ways takes place every day,\" the article said. \"The US has a very poor record on social protection of children,\" Xinhua said, mimicking international human rights' organisations frequent appeals to China in urging the US government to \"take measures to improve its record.\" The publication of the article comes some six weeks after New York- based Human Rights Watch/Asia released a 350-page report accusing workers in China's state orphanages of routinely neglecting children and leaving many to starve to death in a policy that received tacit state sanction.                                                                                                                                                                                                                                                                                                                                                                                                 \n",
       "3                      China turns tables, details \"terrible plight\" of US children. China turned the tables Thursday on US critics of its treatment of orphans, issuing a lengthy article detailing the \"terrible plight\" of numerous children facing poverty and violence in the United States. The report, signed by Ren Yenshi and to be published on Friday in the party mouthpiece the People's Daily, was released Thursday by Xinhua, accusing US human rights organisations of resorting the \"mean trick\" of fabricating allegations about other countries while ignoring problems at home. \"It is in the world's only superpower that the social tragedies of ill-treating and cruelly injuring children, as well as of hurting them physically and psychologically in various ways takes place every day,\" the article said. \"The US has a very poor record on social protection of children,\" Xinhua said, mimicking international human rights' organisations frequent appeals to China in urging the US government to \"take measures to improve its record.\" The publication of the article comes some six weeks after New York- based Human Rights Watch/Asia released a 350-page report accusing workers in China's state orphanages of routinely neglecting children and leaving many to starve to death in a policy that received tacit state sanction.                                                                                                                                                                                                                                                                                                                                                                                             \n",
       "4                      Aid agency targets women in Afghanistan's poorest society by Marc Lavine. Some of Afghanistan's poorest women are for the first time being given a chance to control their family lives by aid agency workers in this traditionally male-dominated society. The British group Oxfam has defied Afghan custom, which keeps females firmly in the background of family management, by launching a distribution drive which targets the women of Kabul's poorest families. Women representing about 8,000 families in two of the city's most war- devastated districts have been issued blankets, children's clothes and heavy plastic sheeting, to be used for insulation or covering doors and windows left gaping by factional fighting. For most of the women who turned up to receive the aid, wearing the traditional burkas -- Islamic head-to-toe body covers -- it was the first time they had acquired property, and domestic rights, since their marriages. \"This makes us feel that our value is at last being appreciated and that we actually matter and are a crucial part of the family unit,\" Soraya, a 25-year-old widow and mother of six told AFP.                                                                                                                                                                                                                                                                                                                                                                                                                                                                                                                                                                            \n",
       "...                                                                                                                                                                                                                                                                                                                                                                                                                                                                                                                                                                                                                                                                                                                                                                                                                                                                                                                                                                                                                                                                                                                                                                                    ...                                                                                                                                                                                                                                                                                                                                                                                                                                                                                                                                                                            \n",
       "APW_ENG_20100920.0398  Fashion greats remember McQueen in London service. Fashionistas celebrated the life and legacy of Alexander McQueen in a solemn ceremony at St. Paul's Cathedral on Monday, seven months after his suicide shocked the designing world. The service for McQueen briefly brought London Fashion Week to a halt as top designers, models and editors came to pay their respects to the enfant terrible of British fashion, who was 40 when he died in early February. He had a history of depression and was said to be devastated by the recent loss of his mother. His suicide has deprived the British fashion world of its biggest and most controversial star. The service was attended by many of the models and actresses who loved McQueen's work, including Naomi Campbell, Kate Moss, Sarah Jessica Parker, Jade Parfitt and others, including designer Stella McCartney. Anna Wintour, editor-in-chief of the American edition of Vogue magazine, was the first of McQueen's admirers to speak. Wearing an elegant black-and-gold outfit, she praised his \"exceptional legacy of brilliant inspiration.\"                                                                                                                                                                                                                                                                                                                                                                                                                                                                                                                                                                                                                              \n",
       "AFP_ENG_19941115.0022  Tamils urge reciprocal gesture to Tiger truce. Tamil politicians urged the government Tuesday to formally respond to a unilateral ceasefire declared over the weekend by separatist Tamil Tiger guerrillas. The Liberation Tigers of Tamil Eelam (LTTE) called the one-week truce to mark Saturday's inauguration of new President Chandrika Kumaratunga, who had initiated talks with the rebels to end ethnic bloodletting. \"The LTTE by its ceasefire has demonstrated that it wants the peace process to continue. What is going to be the government's response?\" Tamil legislator Dharmalingam Sidhathan said. Sidhathan leads the anti-LTTE Democratic People's Liberation Front (DPLF). President Kumaratunga suspended talks with Tigers after the rebels were implicated in killing 57 people at an opposition rally last month, including opposition leader, Gamini Dissanayake.                                                                                                                                                                                                                                                                                                                                                                                                                                                                                                                                                                                                                                                                                                                                                                                                                                                    \n",
       "NYT_ENG_19990517.0460  GENERAL DYNAMICS TO BUY GULFSTREAM, MAKER OF JET PLANES. The General Dynamics Corp., a military contractor that specializes in making nuclear submarines, surface ships and tanks, announced Monday that it would acquire the Gulfstream Aerospace Corp., a maker of corporate jets, for $5.3 billion in a deal that returns General Dynamics to a business it once shed. The Gulfstream acquisition, a 1-for-1 stock swap that would give General Dynamics shares to Gulfstream shareholders, would add a new and potentially cyclical business to General Dynamics' product line, which is heavily laden with armaments that are steady cash generators. It would also move General Dynamics back to the aerospace industry, a business it stepped away from in the early 1990s when it sold Cessna Aircraft, a maker of business jets, to Textron and when it sold its F-16 fighter jet operations to Lockheed Martin as well as its missile division to Hughes Electronics. The deal for Gulfstream elicited mix reaction on Wall Street. General Dynamics tumbled nearly 10 percent, or $6.1875, to $65.25, after having traded as low as $63.25 by midday. Still, while many on Wall Street were skeptical about the deal, others said Gulfstream would add a strong cash generator to the company, even if it took General Dynamics in a new direction. ``The deal makes a lot of sense from a financial perspective,'' said Pierre Chao, an analyst with Morgan Stanley Dean Witter. ``General Dynamics is adding a company with a solid background and great cash flow, which will allow them to fuel further defense acquisitions.'' He said the market was forgetting that General Dynamics used to be in the aerospace business.   \n",
       "AFP_ENG_20090729.0244  Croatia, Slovenia PMs to meet over border row. Croatia said Wednesday that its new prime minister will meet this week with her counterpart from Slovenia, which is blocking Zagreb's EU accession over a long- running border row. Jadranka Kosor, who became Croatia's first woman premier earlier this month, was to hold talks Friday with Slovenia's Borut Pahor in Trakoscan, some 70 kilometres (43 miles) north of Zagreb, said a government statement. \"With this meeting, a bilateral dialogue on the level of the premiers which started in February will continue,\" it said referring to a meeting in Slovenia between Pahor and Kosor's predecessor Ivo Sanader. Slovenia has been blocking Croatia's talks to join the European Union since December over a border dispute dating back to 1991, when both countries proclaimed independence from the former Yugoslavia. Kosor said Wednesday she was \"very optimisic\" of resolving the issue, which concerns a small slice of land and sea crucial for Slovenia's access to the Adriatic Sea and international shipping waters.                                                                                                                                                                                                                                                                                                                                                                                                                                                                                                                                                                                                                                                   \n",
       "NYT_ENG_19980423.0404  Bad report for NASA's pet project. ATLANTA ---- The international space station, which NASA claimed a year ago was ``on time and under budget,'' is neither, a blue-ribbon task force warned Thursday in a stinging analysis that calls the current schedule and cost estimates unrealistic and unachievable. The analysis, which NASA requested last year, said construction of the space station, which was due to begin in June, will ``likely'' take one to three years longer than NASA envisioned and cost as much as $24.7 billion, or 30 percent more than NASA assured Congress it would take to complete the project. The task force blamed the grim new reality check on prime contractor Boeing's cost overruns, already approaching $1 billion, construction delays by Russian and U.S. contractors, and NASA's failure to properly manage ``the most complex and technically challenging achievement in human spaceflight since landing on the moon.'' Although the space station has been redesigned and downsized six times since being proposed by President Ronald Reagan in 1982, NASA may have to think about shrinking it again, task force Chairman Jay Chabrow said. ``The present program should be revised so that it is achievable within the financial resources available,'' Chabrow told NASA Administrator Daniel Goldin. ``If necessary, program content should be eliminated or deferred to fit within funding constraints.''                                                                                                                                                                                                                                                                                  \n",
       "\n",
       "                           label  \n",
       "0                      related    \n",
       "1                      related    \n",
       "2                      related    \n",
       "3                      related    \n",
       "4                      related    \n",
       "...                        ...    \n",
       "APW_ENG_20100920.0398  unrelated  \n",
       "AFP_ENG_19941115.0022  unrelated  \n",
       "NYT_ENG_19990517.0460  unrelated  \n",
       "AFP_ENG_20090729.0244  unrelated  \n",
       "NYT_ENG_19980423.0404  unrelated  \n",
       "\n",
       "[866 rows x 2 columns]"
      ]
     },
     "execution_count": 38,
     "metadata": {},
     "output_type": "execute_result"
    }
   ],
   "source": [
    "# the id column is not an issue since they are not used for representation\n",
    "balanced_labeled_df"
   ]
  },
  {
   "cell_type": "markdown",
   "metadata": {},
   "source": [
    "# add Bert Transformers"
   ]
  },
  {
   "cell_type": "code",
   "execution_count": 39,
   "metadata": {
    "ExecuteTime": {
     "end_time": "2020-03-03T13:49:18.109263Z",
     "start_time": "2020-03-03T13:49:13.747717Z"
    }
   },
   "outputs": [],
   "source": [
    "# bert-large-nli-mean-tokens is also usable with small improvements\n",
    "model = SentenceTransformer('bert-base-nli-mean-tokens')"
   ]
  },
  {
   "cell_type": "code",
   "execution_count": 40,
   "metadata": {
    "ExecuteTime": {
     "end_time": "2020-03-03T13:49:19.440422Z",
     "start_time": "2020-03-03T13:49:19.425300Z"
    }
   },
   "outputs": [],
   "source": [
    "texts = balanced_labeled_df.text.to_list()"
   ]
  },
  {
   "cell_type": "code",
   "execution_count": 41,
   "metadata": {
    "ExecuteTime": {
     "end_time": "2020-03-03T14:02:52.003915Z",
     "start_time": "2020-03-03T13:49:27.331684Z"
    }
   },
   "outputs": [],
   "source": [
    "embedded_texts = []\n",
    "for text in texts:\n",
    "    sentences = nltk.sent_tokenize(text)\n",
    "    if len(sentences) >=6:\n",
    "        sentence_embeddings = model.encode(sentences[:6])\n",
    "    else:\n",
    "        for n in range (6-len(sentences)):\n",
    "            sentences.append(sentences[0])\n",
    "    embedded_texts.append(sentence_embeddings)\n",
    "    "
   ]
  },
  {
   "cell_type": "markdown",
   "metadata": {},
   "source": [
    "## concatenated and mean embeddings"
   ]
  },
  {
   "cell_type": "code",
   "execution_count": 42,
   "metadata": {
    "ExecuteTime": {
     "end_time": "2020-03-03T14:03:20.215786Z",
     "start_time": "2020-03-03T14:03:20.077355Z"
    }
   },
   "outputs": [],
   "source": [
    "# use concatenated list or mean list in the train_test_split function below\n",
    "\n",
    "concatenated_list = []\n",
    "mean_list=[]\n",
    "\n",
    "for six_embeds in embedded_texts:\n",
    "    new = np.concatenate(six_embeds)\n",
    "    concatenated_list.append(new)\n",
    "    mean_embeds_per_text = np.mean(six_embeds, axis = 0)\n",
    "    mean_list.append(mean_embeds_per_text)\n",
    "    \n",
    "    "
   ]
  },
  {
   "cell_type": "markdown",
   "metadata": {},
   "source": [
    "# SVM classifier"
   ]
  },
  {
   "cell_type": "code",
   "execution_count": 43,
   "metadata": {
    "ExecuteTime": {
     "end_time": "2020-03-03T14:03:28.539393Z",
     "start_time": "2020-03-03T14:03:28.522215Z"
    }
   },
   "outputs": [],
   "source": [
    "training_labels = list(balanced_labeled_df.label)"
   ]
  },
  {
   "cell_type": "markdown",
   "metadata": {},
   "source": [
    "# Test"
   ]
  },
  {
   "cell_type": "code",
   "execution_count": 47,
   "metadata": {
    "ExecuteTime": {
     "end_time": "2020-03-03T14:05:37.259510Z",
     "start_time": "2020-03-03T14:05:37.244340Z"
    }
   },
   "outputs": [],
   "source": [
    "from sklearn.model_selection import train_test_split\n",
    "# mean_list can be exchanged for concatenated_list\n",
    "X_train, X_test, y_train, y_test = train_test_split(mean_list, training_labels, test_size=0.33, random_state=42)"
   ]
  },
  {
   "cell_type": "code",
   "execution_count": 48,
   "metadata": {
    "ExecuteTime": {
     "end_time": "2020-03-03T14:05:40.709424Z",
     "start_time": "2020-03-03T14:05:39.422174Z"
    }
   },
   "outputs": [],
   "source": [
    "# change this to a cross-fold validation for more robust metrics\n",
    "\n",
    "svm_var = LinearSVC(random_state=0, tol=1e-5, max_iter = 5000)\n",
    "svm_var.fit(X_train, y_train)\n",
    "predictions = list(svm_var.predict(X_test))"
   ]
  },
  {
   "cell_type": "code",
   "execution_count": null,
   "metadata": {
    "ExecuteTime": {
     "end_time": "2020-03-02T06:37:55.990046Z",
     "start_time": "2020-03-02T06:37:55.958807Z"
    }
   },
   "outputs": [],
   "source": [
    "predictions"
   ]
  },
  {
   "cell_type": "code",
   "execution_count": 46,
   "metadata": {
    "ExecuteTime": {
     "end_time": "2020-03-03T14:04:06.635496Z",
     "start_time": "2020-03-03T14:04:06.600282Z"
    }
   },
   "outputs": [
    {
     "name": "stdout",
     "output_type": "stream",
     "text": [
      "              precision    recall  f1-score   support\n",
      "\n",
      "     related       0.92      0.87      0.90       151\n",
      "   unrelated       0.87      0.92      0.89       135\n",
      "\n",
      "    accuracy                           0.90       286\n",
      "   macro avg       0.90      0.90      0.90       286\n",
      "weighted avg       0.90      0.90      0.90       286\n",
      "\n"
     ]
    }
   ],
   "source": [
    "from sklearn.metrics import classification_report\n",
    "print(classification_report(y_test, predictions))"
   ]
  }
 ],
 "metadata": {
  "kernelspec": {
   "display_name": "Python 3",
   "language": "python",
   "name": "python3"
  },
  "language_info": {
   "codemirror_mode": {
    "name": "ipython",
    "version": 3
   },
   "file_extension": ".py",
   "mimetype": "text/x-python",
   "name": "python",
   "nbconvert_exporter": "python",
   "pygments_lexer": "ipython3",
   "version": "3.7.2"
  }
 },
 "nbformat": 4,
 "nbformat_minor": 2
}
